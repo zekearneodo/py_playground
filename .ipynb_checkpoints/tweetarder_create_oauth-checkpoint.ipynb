{
 "cells": [
  {
   "cell_type": "code",
   "execution_count": 2,
   "metadata": {},
   "outputs": [],
   "source": [
    "import tweepy\n",
    " \n",
    "# Consumer keys and access tokens, used for OAuth\n",
    "# These are for twitter Maximilian power (k0vfefe)\n",
    "# see 'dummy accounts' in my google docs for users and passwords\n",
    "\n",
    "consumer_key = 'ktE5s5VHR0hvCnhkRuWEEtIeh'\n",
    "consumer_secret = 'TOFW7dVwa4ObJw96LUD5ZfSIQm0n3QgAHjFaNYIINppP6tXYmb'\n",
    "\n",
    "access_token = '913892374618574848-pCGGzstp9hWv7TYn9rKPrkQrpaQoPqO'\n",
    "access_token_secret = 'eqB0DK1J0zf5lxcUYFBFK8hnfFpaHRS8SE1nOVeGf0kGA'\n",
    " \n",
    "# OAuth process, using the keys and tokens\n",
    "auth = tweepy.OAuthHandler(consumer_key, consumer_secret)\n",
    "auth.set_access_token(access_token, access_token_secret)\n",
    " \n",
    "# Creation of the actual interface, using authentication\n",
    "api = tweepy.API(auth)\n",
    " \n",
    "# Sample method, used to update a status\n",
    "api.update_status('@neurosarasa Robot twitter says hi three');"
   ]
  },
  {
   "cell_type": "code",
   "execution_count": 3,
   "metadata": {},
   "outputs": [
    {
     "name": "stdout",
     "output_type": "stream",
     "text": [
      "Maximilian Power\n",
      "Maximilian Power\n",
      "Maximilian Power\n",
      "Maximilian Power\n",
      "Maximilian Power\n"
     ]
    }
   ],
   "source": [
    "tweets = api.user_timeline(count = 100, include_rts = True)\n",
    "for status in tweets:\n",
    "    print(status.author.name)"
   ]
  },
  {
   "cell_type": "code",
   "execution_count": 4,
   "metadata": {
    "collapsed": true
   },
   "outputs": [],
   "source": [
    "one = tweets.pop()"
   ]
  },
  {
   "cell_type": "code",
   "execution_count": 5,
   "metadata": {},
   "outputs": [],
   "source": [
    "user = api.get_user('twitter')\n"
   ]
  },
  {
   "cell_type": "markdown",
   "metadata": {},
   "source": [
    "## This part is to create the consumer secret and the token."
   ]
  },
  {
   "cell_type": "markdown",
   "metadata": {},
   "source": [
    "Follow the authentication tutorial in http://docs.tweepy.org/en/v3.5.0/auth_tutorial.html#auth-tutorial\n",
    "But essentially, you create an application (from twitter's website), and that will yield a consumer_key and consumer_sercret.\n",
    "With those, you need to create a token and a secret for your user.\n",
    "\n"
   ]
  },
  {
   "cell_type": "markdown",
   "metadata": {},
   "source": [
    "### Create the authentication request"
   ]
  },
  {
   "cell_type": "code",
   "execution_count": 2,
   "metadata": {
    "collapsed": true
   },
   "outputs": [],
   "source": [
    "import tweepy\n",
    " \n",
    "# Consumer keys and access tokens, used for OAuth\n",
    "# These are for twitter Maximilian power (k0vfefe)\n",
    "\n",
    "consumer_key = 'ktE5s5VHR0hvCnhkRuWEEtIeh'\n",
    "consumer_secret = 'TOFW7dVwa4ObJw96LUD5ZfSIQm0n3QgAHjFaNYIINppP6tXYmb'\n",
    "\n",
    "#access_token = '913892374618574848-w9FMe3i57i3GiMg1O7kChC7gghZhkzM'\n",
    "#access_token_secret = 'KMivCSDR2lhpyOqg0cl0wGNQE2cgVyiYqmtaQ7TbMgkju'\n",
    "\n",
    "auth = tweepy.OAuthHandler(consumer_key, consumer_secret)\n",
    "try:\n",
    "    redirect_url = auth.get_authorization_url()\n",
    "except tweepy.TweepError:\n",
    "    print('Error! Failed to get request token.')"
   ]
  },
  {
   "cell_type": "markdown",
   "metadata": {},
   "source": [
    "### Get the verification code for the application for this user (go to the redirect_url link)"
   ]
  },
  {
   "cell_type": "code",
   "execution_count": 3,
   "metadata": {},
   "outputs": [
    {
     "data": {
      "text/plain": [
       "'https://api.twitter.com/oauth/authorize?oauth_token=kYFcEwAAAAAA2iGTAAABXs_xzYE'"
      ]
     },
     "execution_count": 3,
     "metadata": {},
     "output_type": "execute_result"
    }
   ],
   "source": [
    "redirect_url"
   ]
  },
  {
   "cell_type": "code",
   "execution_count": 7,
   "metadata": {
    "collapsed": true
   },
   "outputs": [],
   "source": [
    "### Insert the verfication code and create the access token"
   ]
  },
  {
   "cell_type": "code",
   "execution_count": 4,
   "metadata": {
    "collapsed": true
   },
   "outputs": [],
   "source": [
    "verifier = '0920536'\n",
    "try:\n",
    "    auth.get_access_token(verifier)\n",
    "    print('Got access token {}'.format(auth.access_token))\n",
    "except tweepy.TweepError:\n",
    "    print('Error! Failed to get access token.')"
   ]
  }
 ],
 "metadata": {
  "kernelspec": {
   "display_name": "Tf 1.2 py3.6",
   "language": "python",
   "name": "tf"
  }
 },
 "nbformat": 4,
 "nbformat_minor": 2
}
