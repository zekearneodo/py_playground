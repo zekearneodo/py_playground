{
 "cells": [
  {
   "cell_type": "code",
   "execution_count": null,
   "metadata": {
    "collapsed": true
   },
   "outputs": [],
   "source": [
    "import os\n",
    "import sys\n",
    "import zmq\n",
    "import time"
   ]
  },
  {
   "cell_type": "code",
   "execution_count": null,
   "metadata": {},
   "outputs": [
    {
     "name": "stdout",
     "output_type": "stream",
     "text": [
      "Connecting to hello world server…\n",
      "Sending request 0 …\n"
     ]
    }
   ],
   "source": [
    "#\n",
    "#   Hello World client in Python\n",
    "#   Connects REQ socket to tcp://localhost:5555\n",
    "\n",
    "#   Sends \"Hello\" to server, expects \"World\" back\n",
    "#\n",
    "\n",
    "import zmq\n",
    "\n",
    "context = zmq.Context()\n",
    "\n",
    "#  Socket to talk to server\n",
    "print(\"Connecting to hello world server…\")\n",
    "socket = context.socket(zmq.REQ)\n",
    "socket.connect(\"tcp://localhost:5558\")\n",
    "\n",
    "#  Do 10 requests, waiting each time for a response\n",
    "for request in range(1):\n",
    "    print(\"Sending request %s …\" % request)\n",
    "    socket.send(\"bos01_tag.wav\")\n",
    "\n",
    "    #  Get the reply.\n",
    "    message = socket.recv()\n",
    "    print(\"Received reply %s [ %s ]\" % (request, message))"
   ]
  },
  {
   "cell_type": "code",
   "execution_count": 13,
   "metadata": {},
   "outputs": [],
   "source": [
    "# generate wav file containing sine waves\n",
    "# FB36 - 20120617\n",
    "import math, wave, array\n",
    "import os\n",
    "\n",
    "duration = 120 # seconds\n",
    "freq = 1000 # of cycles per second (Hz) (frequency of the sine waves)\n",
    "volume = 90 # percent\n",
    "data = array.array('h') # signed short integer (-32768 to 32767) data\n",
    "sampleRate = 30000 # of samples per second (standard)\n",
    "numChan = 1 # of channels (1: mono, 2: stereo)\n",
    "dataSize = 2 # 2 bytes because of using signed short integers => bit depth = 16\n",
    "numSamplesPerCyc = int(sampleRate / freq)\n",
    "numSamples = sampleRate * duration\n",
    "for i in range(numSamples):\n",
    "    sample = 32767 * float(volume) / 100\n",
    "    sample *= math.sin(math.pi * 2 * (i % numSamplesPerCyc) / numSamplesPerCyc)\n",
    "    data.append(int(sample))\n",
    "\n",
    "f_path = os.path.join(os.path.abspath('/mnt/cube/earneodo/repos/cplay/statemachina'), \n",
    "                      'test_mono_44100.wav')\n",
    "f = wave.open(f_path, 'w')\n",
    "f.setparams((numChan, dataSize, sampleRate, numSamples, \"NONE\", \"Uncompressed\"))\n",
    "f.writeframes(data.tostring())\n",
    "f.close()"
   ]
  },
  {
   "cell_type": "code",
   "execution_count": 6,
   "metadata": {},
   "outputs": [
    {
     "data": {
      "text/plain": [
       "'/mnt/cube/earneodo/repos/cplay/statemachina/test_mono_44100.wav'"
      ]
     },
     "execution_count": 6,
     "metadata": {},
     "output_type": "execute_result"
    }
   ],
   "source": [
    "f_path"
   ]
  },
  {
   "cell_type": "code",
   "execution_count": 12,
   "metadata": {},
   "outputs": [
    {
     "ename": "AttributeError",
     "evalue": "'array.array' object has no attribute 'shape'",
     "output_type": "error",
     "traceback": [
      "\u001b[0;31m\u001b[0m",
      "\u001b[0;31mAttributeError\u001b[0mTraceback (most recent call last)",
      "\u001b[0;32m<ipython-input-12-4d6baf1a67bf>\u001b[0m in \u001b[0;36m<module>\u001b[0;34m()\u001b[0m\n\u001b[0;32m----> 1\u001b[0;31m \u001b[0mdata\u001b[0m\u001b[0;34m.\u001b[0m\u001b[0mshape\u001b[0m\u001b[0;34m\u001b[0m\u001b[0m\n\u001b[0m",
      "\u001b[0;31mAttributeError\u001b[0m: 'array.array' object has no attribute 'shape'"
     ]
    }
   ],
   "source": [
    "data."
   ]
  },
  {
   "cell_type": "code",
   "execution_count": null,
   "metadata": {
    "collapsed": true
   },
   "outputs": [],
   "source": []
  }
 ],
 "metadata": {
  "kernelspec": {
   "display_name": "Python [default]",
   "language": "python",
   "name": "python2"
  },
  "language_info": {
   "codemirror_mode": {
    "name": "ipython",
    "version": 2
   },
   "file_extension": ".py",
   "mimetype": "text/x-python",
   "name": "python",
   "nbconvert_exporter": "python",
   "pygments_lexer": "ipython2",
   "version": "2.7.13"
  }
 },
 "nbformat": 4,
 "nbformat_minor": 1
}
