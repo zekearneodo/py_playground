{
 "cells": [
  {
   "cell_type": "code",
   "execution_count": 2,
   "metadata": {
    "collapsed": false
   },
   "outputs": [
    {
     "name": "stderr",
     "output_type": "stream",
     "text": [
      "DEBUG:root:often makes a very good meal of visiting tourists\n",
      "2016-05-26 22:06:13,263 root         DEBUG    often makes a very good meal of visiting tourists\n"
     ]
    }
   ],
   "source": [
    "## first go at a serial decoder\n",
    "import numpy as np\n",
    "from __future__ import division\n",
    "import logging\n",
    "\n",
    "logger = logging.getLogger()\n",
    "handler = logging.StreamHandler()\n",
    "formatter = logging.Formatter('%(asctime)s %(name)-12s %(levelname)-8s %(message)s')\n",
    "handler.setFormatter(formatter)\n",
    "logger.addHandler(handler)\n",
    "logger.setLevel(logging.DEBUG)\n",
    "\n",
    "logger.debug('often makes a very good meal of %s', 'visiting tourists')\n",
    "\n",
    "def samples_per_bit(s_f, baud_rate):\n",
    "    return np.int(sf/baud_rate)\n",
    "\n",
    "class DigitalSerial():\n",
    "    def __init(self, event_stack, s_f=30000, baud_rate=2400, n_bits=8, n_bytes=4, stop_bits=1, \n",
    "               timeout_word=1, parity_check=False, little_endian=True):\n",
    "        self.events = event_stack #in samples\n",
    "        self.s_f = s_f\n",
    "        self.baud_rate = baud_rate\n",
    "        self.n_bits = n_bits\n",
    "        self.stop_bits = 1\n",
    "        self.parity = parity_check\n",
    "        self.lsb = little_endian\n",
    "        self.bit_samples = samples_per_bit(s_f, baud_rate)\n",
    "    \n",
    "    def parse_bytes(self):\n",
    "        \n",
    "        more_bytes = 1\n",
    "        while more_bytes:\n",
    "            pass\n",
    "\n",
    "        \n",
    "    "
   ]
  },
  {
   "cell_type": "code",
   "execution_count": null,
   "metadata": {
    "collapsed": true
   },
   "outputs": [],
   "source": []
  }
 ],
 "metadata": {
  "kernelspec": {
   "display_name": "Python 2",
   "language": "python",
   "name": "python2"
  },
  "language_info": {
   "codemirror_mode": {
    "name": "ipython",
    "version": 2
   },
   "file_extension": ".py",
   "mimetype": "text/x-python",
   "name": "python",
   "nbconvert_exporter": "python",
   "pygments_lexer": "ipython2",
   "version": "2.7.11"
  }
 },
 "nbformat": 4,
 "nbformat_minor": 0
}
