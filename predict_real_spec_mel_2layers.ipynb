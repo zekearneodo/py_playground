{
 "cells": [
  {
   "cell_type": "code",
   "execution_count": 6,
   "metadata": {
    "collapsed": true
   },
   "outputs": [],
   "source": [
    "import os\n",
    "\n",
    "gpus = [0]\n",
    "os.environ['CUDA_VISIBLE_DEVICES']=','.join([str(i) for i in gpus])"
   ]
  },
  {
   "cell_type": "code",
   "execution_count": 7,
   "metadata": {
    "collapsed": true
   },
   "outputs": [],
   "source": [
    "import pylab\n",
    "import numpy as np\n",
    "import matplotlib.pyplot as plt\n",
    "import pandas as pd\n",
    "import math\n",
    "import socket\n",
    "import sys\n",
    "import h5py\n",
    "import keras\n",
    "import random\n",
    "from keras.callbacks import EarlyStopping, ModelCheckpoint\n",
    "from keras.models import Sequential, load_model\n",
    "from keras.layers import Dense, Dropout\n",
    "from keras.layers import LSTM, Activation, advanced_activations\n",
    "from keras.regularizers import l2\n",
    "from sklearn.preprocessing import MinMaxScaler\n",
    "from sklearn.metrics import mean_squared_error\n",
    "import pickle\n",
    "import spec_processing as spp\n",
    "%matplotlib inline\n",
    "from __future__ import division\n",
    "from scipy.signal import spectrogram\n",
    "import scipy.interpolate\n",
    "import logging\n",
    "import copy\n",
    "import glob\n",
    "import shutil\n",
    "import os\n",
    "import datetime\n",
    "from random import shuffle\n",
    "import IPython.display"
   ]
  },
  {
   "cell_type": "code",
   "execution_count": 8,
   "metadata": {},
   "outputs": [
    {
     "name": "stdout",
     "output_type": "stream",
     "text": [
      "The code is running on passaro\n",
      "\n",
      "Bird data located at:\n",
      "/mnt/cube/earneodo/bci_zf/ss_data/z007\n",
      "\n",
      "Results will be saved at:\n",
      "/mnt/cube/kai/results/spectrogram prediction model/mel\n",
      "\n"
     ]
    }
   ],
   "source": [
    "#date and bird of data used\n",
    "bird_id = 'z007'\n",
    "model_name = 'spectrogram prediction model/mel'\n",
    "\n",
    "#locate source folder\n",
    "hostname = socket.gethostname()\n",
    "print('The code is running on '+hostname + '\\n')\n",
    "    \n",
    "if hostname in ['txori', 'passaro']:\n",
    "    data_folder = os.path.abspath('/mnt/cube/kai/data')\n",
    "    results_folder = os.path.abspath('/mnt/cube/kai/results/'+model_name)\n",
    "    repos_folder = os.path.abspath('/mnt/cube/kai/repositories')\n",
    "    data_folder_zeke = os.path.abspath('/mnt/cube/earneodo/bci_zf/ss_data')\n",
    "    bird_folder_save = os.path.join(data_folder, bird_id)\n",
    "    bird_folder_data = os.path.join(data_folder_zeke, bird_id)\n",
    "else:\n",
    "    data_folder = os.path.abspath('/Users/Kai/Documents/UCSD/Research/Gentner group/Raw Data')\n",
    "    results_folder = os.path.abspath('/Users/Kai/Documents/UCSD/Research/Gentner group/Results/'+model_name)\n",
    "    repos_folder = os.path.abspath('/Users/Kai/Documents/UCSD/Research/Gentner group/Code')\n",
    "    bird_folder_save = os.path.join(data_folder, bird_id)\n",
    "    bird_folder_data = bird_folder_save\n",
    "    \n",
    "if not os.path.exists(bird_folder_save):\n",
    "    os.makedirs(bird_folder_save)\n",
    "\n",
    "if not os.path.exists(results_folder):\n",
    "    os.makedirs(results_folder)\n",
    "    \n",
    "print('Bird data located at:\\n'+bird_folder_data+'\\n')\n",
    "print('Results will be saved at:\\n'+results_folder+'\\n')\n",
    "\n",
    "output_file = os.path.join(results_folder, 'mel_spec_predicted.dat')\n",
    "\n",
    "sys.path.append(os.path.join(repos_folder, 'swissknife'))\n",
    "\n",
    "from dynamo import finch as zf\n",
    "from dynamo import takens as tk\n",
    "from bci.core import expstruct as es\n",
    "from bci import synthetic as syn"
   ]
  },
  {
   "cell_type": "markdown",
   "metadata": {},
   "source": [
    "## Make Datasets"
   ]
  },
  {
   "cell_type": "code",
   "execution_count": 9,
   "metadata": {
    "collapsed": true
   },
   "outputs": [],
   "source": [
    "neural_kwik_name = 'experiment.kwik'\n",
    "song_kwik_name = 'experiment.sng.kwe'\n",
    "song_length = 20480\n",
    "bin_size = 128\n",
    "num_clusters = 64\n",
    "num_lookbacks = 10\n",
    "\n",
    "start_extend_bins = 0\n",
    "end_extend_bins = 0\n",
    "n_mel_freq = 128"
   ]
  },
  {
   "cell_type": "code",
   "execution_count": 10,
   "metadata": {},
   "outputs": [
    {
     "name": "stdout",
     "output_type": "stream",
     "text": [
      "Start working on /mnt/cube/earneodo/bci_zf/ss_data/z007/day-2016-09-11\n"
     ]
    },
    {
     "ename": "IOError",
     "evalue": "[Errno 13] Permission denied: '/mnt/cube/kai/data/z007/day-2016-09-11/motif 0 419723.png'",
     "output_type": "error",
     "traceback": [
      "\u001b[0;31m\u001b[0m",
      "\u001b[0;31mIOError\u001b[0mTraceback (most recent call last)",
      "\u001b[0;32m<ipython-input-10-f0d4b8e0b4f6>\u001b[0m in \u001b[0;36m<module>\u001b[0;34m()\u001b[0m\n\u001b[1;32m      1\u001b[0m \u001b[0mreload\u001b[0m\u001b[0;34m(\u001b[0m\u001b[0mspp\u001b[0m\u001b[0;34m)\u001b[0m\u001b[0;34m\u001b[0m\u001b[0m\n\u001b[1;32m      2\u001b[0m datasets = spp.spike_sort(neural_kwik_name, song_kwik_name, song_length, bin_size, num_clusters, num_lookbacks, start_extend_bins=start_extend_bins, \n\u001b[0;32m----> 3\u001b[0;31m                end_extend_bins=end_extend_bins, specify_subdir = 'day-2016-09-11', n_mel_freq_components = n_mel_freq)\n\u001b[0m",
      "\u001b[0;32m/mnt/cube/earneodo/repos/playground/spec_processing.pyc\u001b[0m in \u001b[0;36mspike_sort\u001b[0;34m(neural_kwik_name, song_kwik_name, song_length, bin_size, num_clusters, num_lookbacks, start_extend_bins, end_extend_bins, bird_folder_save, bird_folder_data, specify_subdir, n_mel_freq_components, start_freq, end_freq)\u001b[0m\n\u001b[1;32m    545\u001b[0m                 \u001b[0mplt\u001b[0m\u001b[0;34m.\u001b[0m\u001b[0mplot\u001b[0m\u001b[0;34m(\u001b[0m\u001b[0mwav_data\u001b[0m\u001b[0;34m)\u001b[0m\u001b[0;34m\u001b[0m\u001b[0m\n\u001b[1;32m    546\u001b[0m                 \u001b[0mplt\u001b[0m\u001b[0;34m.\u001b[0m\u001b[0mtitle\u001b[0m\u001b[0;34m(\u001b[0m\u001b[0mstr\u001b[0m\u001b[0;34m(\u001b[0m\u001b[0mrec\u001b[0m\u001b[0;34m)\u001b[0m\u001b[0;34m+\u001b[0m\u001b[0;34m': '\u001b[0m\u001b[0;34m+\u001b[0m\u001b[0mstr\u001b[0m\u001b[0;34m(\u001b[0m\u001b[0msong_ideal_start\u001b[0m\u001b[0;34m)\u001b[0m\u001b[0;34m)\u001b[0m\u001b[0;34m\u001b[0m\u001b[0m\n\u001b[0;32m--> 547\u001b[0;31m                 \u001b[0mplt\u001b[0m\u001b[0;34m.\u001b[0m\u001b[0msavefig\u001b[0m\u001b[0;34m(\u001b[0m\u001b[0mos\u001b[0m\u001b[0;34m.\u001b[0m\u001b[0mpath\u001b[0m\u001b[0;34m.\u001b[0m\u001b[0mjoin\u001b[0m\u001b[0;34m(\u001b[0m\u001b[0mrecording_folder_save\u001b[0m\u001b[0;34m,\u001b[0m \u001b[0;34m'motif '\u001b[0m\u001b[0;34m+\u001b[0m\u001b[0mstr\u001b[0m\u001b[0;34m(\u001b[0m\u001b[0mrec\u001b[0m\u001b[0;34m)\u001b[0m\u001b[0;34m+\u001b[0m\u001b[0;34m' '\u001b[0m\u001b[0;34m+\u001b[0m\u001b[0mstr\u001b[0m\u001b[0;34m(\u001b[0m\u001b[0mideal_start\u001b[0m\u001b[0;34m)\u001b[0m\u001b[0;34m+\u001b[0m\u001b[0;34m'.png'\u001b[0m\u001b[0;34m)\u001b[0m\u001b[0;34m)\u001b[0m\u001b[0;34m\u001b[0m\u001b[0m\n\u001b[0m\u001b[1;32m    548\u001b[0m                 \u001b[0mplt\u001b[0m\u001b[0;34m.\u001b[0m\u001b[0mclose\u001b[0m\u001b[0;34m(\u001b[0m\u001b[0mfig\u001b[0m\u001b[0;34m)\u001b[0m\u001b[0;34m\u001b[0m\u001b[0m\n\u001b[1;32m    549\u001b[0m \u001b[0;34m\u001b[0m\u001b[0m\n",
      "\u001b[0;32m/usr/local/anaconda/lib/python2.7/site-packages/matplotlib/pyplot.pyc\u001b[0m in \u001b[0;36msavefig\u001b[0;34m(*args, **kwargs)\u001b[0m\n\u001b[1;32m    695\u001b[0m \u001b[0;32mdef\u001b[0m \u001b[0msavefig\u001b[0m\u001b[0;34m(\u001b[0m\u001b[0;34m*\u001b[0m\u001b[0margs\u001b[0m\u001b[0;34m,\u001b[0m \u001b[0;34m**\u001b[0m\u001b[0mkwargs\u001b[0m\u001b[0;34m)\u001b[0m\u001b[0;34m:\u001b[0m\u001b[0;34m\u001b[0m\u001b[0m\n\u001b[1;32m    696\u001b[0m     \u001b[0mfig\u001b[0m \u001b[0;34m=\u001b[0m \u001b[0mgcf\u001b[0m\u001b[0;34m(\u001b[0m\u001b[0;34m)\u001b[0m\u001b[0;34m\u001b[0m\u001b[0m\n\u001b[0;32m--> 697\u001b[0;31m     \u001b[0mres\u001b[0m \u001b[0;34m=\u001b[0m \u001b[0mfig\u001b[0m\u001b[0;34m.\u001b[0m\u001b[0msavefig\u001b[0m\u001b[0;34m(\u001b[0m\u001b[0;34m*\u001b[0m\u001b[0margs\u001b[0m\u001b[0;34m,\u001b[0m \u001b[0;34m**\u001b[0m\u001b[0mkwargs\u001b[0m\u001b[0;34m)\u001b[0m\u001b[0;34m\u001b[0m\u001b[0m\n\u001b[0m\u001b[1;32m    698\u001b[0m     \u001b[0mfig\u001b[0m\u001b[0;34m.\u001b[0m\u001b[0mcanvas\u001b[0m\u001b[0;34m.\u001b[0m\u001b[0mdraw_idle\u001b[0m\u001b[0;34m(\u001b[0m\u001b[0;34m)\u001b[0m   \u001b[0;31m# need this if 'transparent=True' to reset colors\u001b[0m\u001b[0;34m\u001b[0m\u001b[0m\n\u001b[1;32m    699\u001b[0m     \u001b[0;32mreturn\u001b[0m \u001b[0mres\u001b[0m\u001b[0;34m\u001b[0m\u001b[0m\n",
      "\u001b[0;32m/usr/local/anaconda/lib/python2.7/site-packages/matplotlib/figure.pyc\u001b[0m in \u001b[0;36msavefig\u001b[0;34m(self, *args, **kwargs)\u001b[0m\n\u001b[1;32m   1571\u001b[0m             \u001b[0mself\u001b[0m\u001b[0;34m.\u001b[0m\u001b[0mset_frameon\u001b[0m\u001b[0;34m(\u001b[0m\u001b[0mframeon\u001b[0m\u001b[0;34m)\u001b[0m\u001b[0;34m\u001b[0m\u001b[0m\n\u001b[1;32m   1572\u001b[0m \u001b[0;34m\u001b[0m\u001b[0m\n\u001b[0;32m-> 1573\u001b[0;31m         \u001b[0mself\u001b[0m\u001b[0;34m.\u001b[0m\u001b[0mcanvas\u001b[0m\u001b[0;34m.\u001b[0m\u001b[0mprint_figure\u001b[0m\u001b[0;34m(\u001b[0m\u001b[0;34m*\u001b[0m\u001b[0margs\u001b[0m\u001b[0;34m,\u001b[0m \u001b[0;34m**\u001b[0m\u001b[0mkwargs\u001b[0m\u001b[0;34m)\u001b[0m\u001b[0;34m\u001b[0m\u001b[0m\n\u001b[0m\u001b[1;32m   1574\u001b[0m \u001b[0;34m\u001b[0m\u001b[0m\n\u001b[1;32m   1575\u001b[0m         \u001b[0;32mif\u001b[0m \u001b[0mframeon\u001b[0m\u001b[0;34m:\u001b[0m\u001b[0;34m\u001b[0m\u001b[0m\n",
      "\u001b[0;32m/usr/local/anaconda/lib/python2.7/site-packages/matplotlib/backend_bases.pyc\u001b[0m in \u001b[0;36mprint_figure\u001b[0;34m(self, filename, dpi, facecolor, edgecolor, orientation, format, **kwargs)\u001b[0m\n\u001b[1;32m   2250\u001b[0m                 \u001b[0morientation\u001b[0m\u001b[0;34m=\u001b[0m\u001b[0morientation\u001b[0m\u001b[0;34m,\u001b[0m\u001b[0;34m\u001b[0m\u001b[0m\n\u001b[1;32m   2251\u001b[0m                 \u001b[0mbbox_inches_restore\u001b[0m\u001b[0;34m=\u001b[0m\u001b[0m_bbox_inches_restore\u001b[0m\u001b[0;34m,\u001b[0m\u001b[0;34m\u001b[0m\u001b[0m\n\u001b[0;32m-> 2252\u001b[0;31m                 **kwargs)\n\u001b[0m\u001b[1;32m   2253\u001b[0m         \u001b[0;32mfinally\u001b[0m\u001b[0;34m:\u001b[0m\u001b[0;34m\u001b[0m\u001b[0m\n\u001b[1;32m   2254\u001b[0m             \u001b[0;32mif\u001b[0m \u001b[0mbbox_inches\u001b[0m \u001b[0;32mand\u001b[0m \u001b[0mrestore_bbox\u001b[0m\u001b[0;34m:\u001b[0m\u001b[0;34m\u001b[0m\u001b[0m\n",
      "\u001b[0;32m/usr/local/anaconda/lib/python2.7/site-packages/matplotlib/backends/backend_agg.pyc\u001b[0m in \u001b[0;36mprint_png\u001b[0;34m(self, filename_or_obj, *args, **kwargs)\u001b[0m\n\u001b[1;32m    548\u001b[0m         \u001b[0mrenderer\u001b[0m\u001b[0;34m.\u001b[0m\u001b[0mdpi\u001b[0m \u001b[0;34m=\u001b[0m \u001b[0mself\u001b[0m\u001b[0;34m.\u001b[0m\u001b[0mfigure\u001b[0m\u001b[0;34m.\u001b[0m\u001b[0mdpi\u001b[0m\u001b[0;34m\u001b[0m\u001b[0m\n\u001b[1;32m    549\u001b[0m         \u001b[0;32mif\u001b[0m \u001b[0mis_string_like\u001b[0m\u001b[0;34m(\u001b[0m\u001b[0mfilename_or_obj\u001b[0m\u001b[0;34m)\u001b[0m\u001b[0;34m:\u001b[0m\u001b[0;34m\u001b[0m\u001b[0m\n\u001b[0;32m--> 550\u001b[0;31m             \u001b[0mfilename_or_obj\u001b[0m \u001b[0;34m=\u001b[0m \u001b[0mopen\u001b[0m\u001b[0;34m(\u001b[0m\u001b[0mfilename_or_obj\u001b[0m\u001b[0;34m,\u001b[0m \u001b[0;34m'wb'\u001b[0m\u001b[0;34m)\u001b[0m\u001b[0;34m\u001b[0m\u001b[0m\n\u001b[0m\u001b[1;32m    551\u001b[0m             \u001b[0mclose\u001b[0m \u001b[0;34m=\u001b[0m \u001b[0mTrue\u001b[0m\u001b[0;34m\u001b[0m\u001b[0m\n\u001b[1;32m    552\u001b[0m         \u001b[0;32melse\u001b[0m\u001b[0;34m:\u001b[0m\u001b[0;34m\u001b[0m\u001b[0m\n",
      "\u001b[0;31mIOError\u001b[0m: [Errno 13] Permission denied: '/mnt/cube/kai/data/z007/day-2016-09-11/motif 0 419723.png'"
     ]
    },
    {
     "data": {
      "image/png": "[encoded data removed]",
      "text/plain": [
       "<matplotlib.figure.Figure at 0x7f8069aa5250>"
      ]
     },
     "metadata": {},
     "output_type": "display_data"
    }
   ],
   "source": [
    "reload(spp)\n",
    "datasets = spp.spike_sort(neural_kwik_name, song_kwik_name, song_length, bin_size, num_clusters, num_lookbacks, start_extend_bins=start_extend_bins, \n",
    "               end_extend_bins=end_extend_bins, specify_subdir = 'day-2016-09-11', n_mel_freq_components = n_mel_freq)"
   ]
  },
  {
   "cell_type": "code",
   "execution_count": 11,
   "metadata": {
    "collapsed": true
   },
   "outputs": [],
   "source": [
    "def make_train_test(dataset, num_bins, divisor=4, break_song=False, test_index=3, cross_valid=False):\n",
    "    \n",
    "    if test_index>divisor-1 or type(test_index)!=int:\n",
    "        raise ValueError('test_index should be an integer less than or equal to 3.')\n",
    "    if type(divisor)!=int or divisor<1:\n",
    "        raise ValueError('divisor should be an integer greater than or equal to 1.')\n",
    "       \n",
    "    valid_index = test_index-1\n",
    "    \n",
    "    if valid_index<0:\n",
    "        valid_index = divisor-1\n",
    "    \n",
    "    num_songs = int(len(dataset)/int(num_bins))\n",
    "    \n",
    "    #print('Total number of songs loaded:'+str(num_songs))\n",
    "    \n",
    "    if break_song:\n",
    "        \n",
    "        #break songs into roughly equal parts\n",
    "        num_bins_each_part = spp.divide_parts(num_bins, divisor)\n",
    "        start_indeces, end_indeces = spp.find_start_end_index(num_bins_each_part)\n",
    "        \n",
    "        num_current_test = num_bins_each_part[test_index]\n",
    "        num_current_valid = num_bins_each_part[valid_index]*cross_valid\n",
    "        num_current_train = num_bins-num_current_test-num_current_valid\n",
    "        \n",
    "        #print('Breaking up each song into '+str(num_current_train)+' training points and '+str(num_current_test)+' testing points.')\n",
    "        #print('Currently testing on part No.'+str(test_index+1)+' of the '+ str(divisor)+' parts.')\n",
    "        \n",
    "        train_list = list()\n",
    "        test_list = list()\n",
    "        valid_list = list()\n",
    "        temp_test = list()\n",
    "        temp_train = list()\n",
    "        temp_valid = list()\n",
    "        \n",
    "        for i in range(num_songs):\n",
    "            this_song = dataset[i*num_bins:(i+1)*num_bins]\n",
    "            bins_by_part = list()\n",
    "            for j in range(len(num_bins_each_part)):\n",
    "                start_index = start_indeces[j]\n",
    "                end_index = end_indeces[j]\n",
    "                if test_index == j:\n",
    "                    temp_test = temp_test+this_song[start_index:end_index]\n",
    "                elif valid_index == j and cross_valid:\n",
    "                    temp_valid = temp_valid+this_song[start_index:end_index]\n",
    "                else:\n",
    "                    temp_train = temp_train+this_song[start_index:end_index]\n",
    "                    \n",
    "        #separate neural and song data\n",
    "        for i in range(len(dataset[0])):            \n",
    "            train_list.append([train_set[i] for train_set in temp_train])\n",
    "            test_list.append([test_set[i] for test_set in temp_test])\n",
    "            valid_list.append([valid_set[i] for valid_set in temp_valid])\n",
    "        \n",
    "        \n",
    "    else:\n",
    "        num_songs_each_part = spp.divide_parts(num_songs, divisor)\n",
    "        num_test = num_songs_each_part[test_index]*num_bins\n",
    "        num_valid = num_songs_each_part[valid_index]*num_bins\n",
    "        num_train = len(datasets)-num_test-num_valid*cross_valid\n",
    "        \n",
    "        start_indeces, end_indeces = spp.find_start_end_index(num_songs_each_part)\n",
    "        \n",
    "    \n",
    "        print('Not breaking up songs. There are '+str(num_train)+' training sets, and '+str(num_test)+' testing sets.\\n')\n",
    "    \n",
    "        train_list = list()\n",
    "        test_list = list()\n",
    "        valid_list = list()\n",
    "        temp_test = list()\n",
    "        temp_train = list()\n",
    "        temp_valid = list()\n",
    "        \n",
    "        #separate neural and song data\n",
    "        for j in range(divisor):\n",
    "            start_index = start_indeces[j]*num_bins\n",
    "            end_index = end_indeces[j]*num_bins\n",
    "            \n",
    "            if test_index == j:\n",
    "                temp_test = temp_test+datasets[start_index:end_index]\n",
    "            elif valid_index == j and cross_valid:\n",
    "                temp_valid = temp_valid+datasets[start_index:end_index]\n",
    "            else:\n",
    "                temp_train = temp_train+datasets[start_index:end_index]\n",
    "                \n",
    "        for i in range(len(dataset[0])):\n",
    "            train_list.append([train_set[i] for train_set in temp_train])\n",
    "            test_list.append([test_set[i] for test_set in temp_test])\n",
    "            valid_list.append([valid_set[i] for valid_set in temp_valid])\n",
    "        \n",
    "    return train_list, test_list, valid_list"
   ]
  },
  {
   "cell_type": "code",
   "execution_count": 12,
   "metadata": {
    "collapsed": true
   },
   "outputs": [],
   "source": [
    "# normalize the dataset\n",
    "scaler = MinMaxScaler(feature_range=(0, 1))"
   ]
  },
  {
   "cell_type": "code",
   "execution_count": 13,
   "metadata": {},
   "outputs": [
    {
     "name": "stdout",
     "output_type": "stream",
     "text": [
      "158\n"
     ]
    },
    {
     "ename": "NameError",
     "evalue": "name 'datasets' is not defined",
     "output_type": "error",
     "traceback": [
      "\u001b[0;31m\u001b[0m",
      "\u001b[0;31mNameError\u001b[0mTraceback (most recent call last)",
      "\u001b[0;32m<ipython-input-13-1d541db4cc83>\u001b[0m in \u001b[0;36m<module>\u001b[0;34m()\u001b[0m\n\u001b[1;32m     11\u001b[0m \u001b[0mvalid_split\u001b[0m \u001b[0;34m=\u001b[0m \u001b[0;36m0.1\u001b[0m\u001b[0;34m\u001b[0m\u001b[0m\n\u001b[1;32m     12\u001b[0m \u001b[0mtest4valid\u001b[0m \u001b[0;34m=\u001b[0m \u001b[0mFalse\u001b[0m\u001b[0;34m\u001b[0m\u001b[0m\n\u001b[0;32m---> 13\u001b[0;31m \u001b[0mnum_songs\u001b[0m \u001b[0;34m=\u001b[0m \u001b[0mlen\u001b[0m\u001b[0;34m(\u001b[0m\u001b[0mdatasets\u001b[0m\u001b[0;34m)\u001b[0m\u001b[0;34m//\u001b[0m\u001b[0mnum_bins\u001b[0m\u001b[0;34m\u001b[0m\u001b[0m\n\u001b[0m\u001b[1;32m     14\u001b[0m \u001b[0;32mif\u001b[0m \u001b[0mlen\u001b[0m\u001b[0;34m(\u001b[0m\u001b[0mdatasets\u001b[0m\u001b[0;34m)\u001b[0m\u001b[0;34m%\u001b[0m\u001b[0mnum_bins\u001b[0m\u001b[0;34m:\u001b[0m\u001b[0;34m\u001b[0m\u001b[0m\n\u001b[1;32m     15\u001b[0m     \u001b[0;32mraise\u001b[0m \u001b[0mValueError\u001b[0m\u001b[0;34m(\u001b[0m\u001b[0;34m'number of songs is not integer'\u001b[0m\u001b[0;34m)\u001b[0m\u001b[0;34m\u001b[0m\u001b[0m\n",
      "\u001b[0;31mNameError\u001b[0m: name 'datasets' is not defined"
     ]
    }
   ],
   "source": [
    "break_song = False\n",
    "num_bins = song_length//bin_size+(end_extend_bins-start_extend_bins)*16-2\n",
    "print(num_bins)\n",
    "divisor= 10\n",
    "l2_val = 0.001\n",
    "dropout_val = 0.2\n",
    "cross_valid = False\n",
    "num_neurons = [20, 30]\n",
    "num_ep = 30\n",
    "early_stopping = True\n",
    "valid_split = 0.1\n",
    "test4valid = False\n",
    "num_songs = len(datasets)//num_bins\n",
    "if len(datasets)%num_bins:\n",
    "    raise ValueError('number of songs is not integer')"
   ]
  },
  {
   "cell_type": "code",
   "execution_count": 74,
   "metadata": {},
   "outputs": [
    {
     "name": "stdout",
     "output_type": "stream",
     "text": [
      "[7]\n"
     ]
    }
   ],
   "source": [
    "#test_indeces = spp.assign_test_indeces(divisor, break_song=break_song)\n",
    "#del model\n",
    "test_indeces = [7]\n",
    "#test_indeces = range(10)\n",
    "print(test_indeces)\n",
    "\n",
    "num_bins_per_part = spp.divide_parts(num_bins, divisor)\n",
    "start_index, end_index = spp.find_start_end_index(num_bins_per_part)"
   ]
  },
  {
   "cell_type": "markdown",
   "metadata": {},
   "source": [
    "## Build and train model"
   ]
  },
  {
   "cell_type": "code",
   "execution_count": null,
   "metadata": {
    "scrolled": true
   },
   "outputs": [
    {
     "name": "stdout",
     "output_type": "stream",
     "text": [
      "Not breaking up songs. There are 13114 training sets, and 1422 testing sets.\n",
      "\n",
      "Model building finished.\n",
      "Train on 11802 samples, validate on 1312 samples\n",
      "Epoch 1/30\n",
      "11802/11802 [==============================] - 646s - loss: 0.3537 - val_loss: 0.2116\n",
      "Epoch 2/30\n",
      "11802/11802 [==============================] - 644s - loss: 0.2348 - val_loss: 0.1949\n",
      "Epoch 3/30\n",
      "11802/11802 [==============================] - 644s - loss: 0.2095 - val_loss: 0.1832\n",
      "Epoch 4/30\n",
      "11802/11802 [==============================] - 627s - loss: 0.1963 - val_loss: 0.1730\n",
      "Epoch 5/30\n",
      "  144/11802 [..............................] - ETA: 614s - loss: 0.1826"
     ]
    }
   ],
   "source": [
    "test_output_compiled = list()\n",
    "test_spec_compiled = list()\n",
    "\n",
    "save_name = '[%d_%d_%02d]_%02d_%02d_[%s_%.2f]_[%02d_%02d]_%.3f_%02dep_%s' %(start_extend_bins, end_extend_bins, num_lookbacks, divisor, \n",
    "                                                            test_indeces[0], cross_valid, valid_split, num_neurons[0], \n",
    "                                                            num_neurons[1], l2_val, num_ep, break_song)\n",
    "#save_name example:[2_2_10]_10_7_[False_0.10]_[20_30]_0_2ep_True\n",
    "run_folder = os.path.join(results_folder, '{:%Y_%m_%d_%H_%M_%S}'.format(datetime.datetime.now()))\n",
    "if not os.path.exists(run_folder):\n",
    "    os.makedirs(run_folder)\n",
    "\n",
    "    \n",
    "if early_stopping and not (cross_valid or valid_split or test4valid):\n",
    "    raise ValueError('if early stopping, you need to have validation sets.')\n",
    "    \n",
    "for test_index in test_indeces:\n",
    "    \n",
    "    if break_song:\n",
    "        print('Starting preparing for No.'+ str(test_index+1)+ ' of '+str(divisor)+' parts.')\n",
    "        \n",
    "    train_list, test_list, valid_list = make_train_test(datasets, num_bins, divisor=divisor, \n",
    "                                                        break_song=break_song, test_index=test_index, \n",
    "                                                        cross_valid=cross_valid)\n",
    "    #both lists [neural data, on/off, beta, alpha]\n",
    "    train_neuro = np.array(train_list[0])\n",
    "    test_neuro = np.array(test_list[0])    \n",
    "\n",
    "    train_spec = np.array(train_list[1])\n",
    "    test_spec = np.array(test_list[1])\n",
    "\n",
    "    #train_neuro = scaler.fit_transform(train_neuro)\n",
    "    #test_neuro = scaler.fit_transform(test_neuro)\n",
    "\n",
    "    train_neuro = np.reshape(train_neuro, (train_neuro.shape[0], num_lookbacks, num_clusters))\n",
    "    test_neuro = np.reshape(test_neuro, (test_neuro.shape[0], num_lookbacks, num_clusters))\n",
    "    \n",
    "    if cross_valid:\n",
    "        valid_neuro = np.array(valid_list[0])\n",
    "        valid_spec = np.array(valid_list[1])\n",
    "        valid_neuro = np.reshape(valid_neuro, (valid_neuro.shape[0], num_lookbacks, num_clusters))\n",
    "    \n",
    "    #train_neuro = np.reshape(train_neuro, (train_neuro.shape[0], 1, train_neuro.shape[1]))\n",
    "    #test_neuro = np.reshape(test_neuro, (test_neuro.shape[0], 1, test_neuro.shape[1]))\n",
    "\n",
    "    model = Sequential()\n",
    "\n",
    "    #num_lookback = len(datasets[0][0])//num_channels\n",
    "    #print('The number of lookbacks in this model is '+ str(num_lookbacks) + '\\n')\n",
    "\n",
    "\n",
    "    model.add(LSTM(num_neurons[0], input_shape = (num_lookbacks, num_clusters),return_sequences=True, W_regularizer=l2(l2_val)))\n",
    "    #model1.add(LSTM(10, input_dim = num_lookback*num_channels,return_sequences=True))\n",
    "    model.add(Dropout(dropout_val))\n",
    "    model.add(LSTM(num_neurons[1], W_regularizer=l2(l2_val)))\n",
    "    model.add(Dropout(dropout_val))\n",
    "    model.add(Dense(len(datasets[0][1]), W_regularizer=l2(l2_val)))\n",
    "\n",
    "    print('Model building finished.')\n",
    "    \n",
    "    model.compile(loss = 'mean_squared_error', optimizer = 'adam')\n",
    "    \n",
    "    current_ep_count=0\n",
    "    \n",
    "    if early_stopping:\n",
    "        model_file = os.path.join(run_folder, '%02d_weights-improvement.h5' %(test_index))\n",
    "        callbacks = [EarlyStopping(monitor='val_loss', patience=4, verbose=1),\n",
    "                     ModelCheckpoint(filepath=model_file, monitor='val_loss', save_best_only=True, verbose=0)\n",
    "                    ]\n",
    "        if valid_split:\n",
    "            model.fit(train_neuro, train_spec, nb_epoch=num_ep, batch_size=1, verbose=int(len(test_indeces)==1), \n",
    "                      validation_split=valid_split, callbacks=callbacks)\n",
    "        elif test4valid:\n",
    "            model.fit(train_neuro, train_spec, nb_epoch=num_ep, batch_size=1, verbose=int(len(test_indeces)==1), \n",
    "                      validation_data=(test_neuro, test_spec), callbacks=callbacks)\n",
    "        else:\n",
    "            model.fit(train_neuro, train_spec, nb_epoch=num_ep, batch_size=1, verbose=int(len(test_indeces)==1), \n",
    "                      validation_data=(valid_neuro, valid_spec), callbacks=callbacks)\n",
    "        del model\n",
    "        model = load_model(model_file)\n",
    "    \n",
    "    else:\n",
    "        model_file = os.path.join(run_folder, '%02d_weights-improvement.h5' %(test_index))\n",
    "        model.fit(train_neuro, train_spec, nb_epoch=num_ep, batch_size=1, verbose=int(not break_song))\n",
    "        model.save(model_file)\n",
    "        \n",
    "        \n",
    "\n",
    "    '''\n",
    "    save_name = '90%_30_20_0_4ep_'\n",
    "    save_file = os.path.join(results_folder, save_name+'.h5')\n",
    "\n",
    "    model1.save(save_file)\n",
    "    '''\n",
    "    test_output = model.predict(test_neuro)\n",
    "    \n",
    "    test_output_compiled.append(test_output)\n",
    "    test_spec_compiled.append(test_spec)\n",
    "    print('Data recorded.')\n",
    "    \n",
    "    print('-'*50+'\\n')\n",
    "\n",
    "save_file = os.path.join(run_folder,save_name+'.p')\n",
    "pickle.dump([test_output_compiled, test_spec_compiled], open(save_file, 'w'))"
   ]
  },
  {
   "cell_type": "code",
   "execution_count": null,
   "metadata": {
    "collapsed": true
   },
   "outputs": [],
   "source": [
    "print('finished')"
   ]
  },
  {
   "cell_type": "code",
   "execution_count": null,
   "metadata": {
    "collapsed": true
   },
   "outputs": [],
   "source": [
    "##TEST ONLY\n",
    "#print('program finished')\n",
    "\n",
    "#del model\n",
    "# returns a compiled model\n",
    "# identical to the previous one\n",
    "#save_name = '[%d_%d_%d]_%d_%d_[%s_%.2f]_[%d_%d]_%.3f_%dep_%s' %(start_extend_bins, end_extend_bins, num_lookbacks, divisor, \n",
    "#                                                            test_indeces[0], cross_valid, valid_split, num_neurons[0], \n",
    "#                                                            num_neurons[1], l2_val, num_ep, break_song)\n",
    "run_folder = os.path.join(results_folder, '2017_04_18_14_47_54')\n",
    "model_file = os.path.join(run_folder, 'weights-improvement-15-0.1212.h5')\n",
    "model = load_model(model_file)"
   ]
  },
  {
   "cell_type": "code",
   "execution_count": null,
   "metadata": {
    "collapsed": true
   },
   "outputs": [],
   "source": [
    "#TEST ONLY\n",
    "del model"
   ]
  },
  {
   "cell_type": "code",
   "execution_count": null,
   "metadata": {
    "collapsed": true
   },
   "outputs": [],
   "source": [
    "#TEST ONLY\n",
    "test_index = test_indeces[0]\n",
    "test_output_compiled = list()\n",
    "test_spec_compiled = list()\n",
    "\n",
    "train_list, test_list, valid_list = make_train_test(datasets, num_bins, divisor=divisor, \n",
    "                                                    break_song=break_song, test_index=test_index, \n",
    "                                                    cross_valid=cross_valid)\n",
    "#both lists [neural data, on/off, beta, alpha]\n",
    "train_neuro = np.array(train_list[0])\n",
    "test_neuro = np.array(test_list[0])    \n",
    "\n",
    "train_spec = np.array(train_list[1])\n",
    "test_spec = np.array(test_list[1])\n",
    "\n",
    "#train_neuro = scaler.fit_transform(train_neuro)\n",
    "#test_neuro = scaler.fit_transform(test_neuro)\n",
    "\n",
    "train_neuro = np.reshape(train_neuro, (train_neuro.shape[0], num_lookbacks, num_clusters))\n",
    "test_neuro = np.reshape(test_neuro, (test_neuro.shape[0], num_lookbacks, num_clusters))\n",
    "\n",
    "\n",
    "test_output = model.predict(test_neuro)\n",
    "    \n",
    "test_output_compiled.append(test_output)\n",
    "test_spec_compiled.append(test_spec)"
   ]
  },
  {
   "cell_type": "code",
   "execution_count": null,
   "metadata": {
    "collapsed": true
   },
   "outputs": [],
   "source": [
    "##TEST ONLY\n",
    "save_name = '[%d_%d_%d]_%d%%_[%d_%d]_%d_%dep_%s' %(start_extend_bins, end_extend_bins, num_lookbacks, pctg, num_neurons[0], num_neurons[1], l2_val, num_ep, break_song)\n",
    "#save_name example:[2_2_10]_90%_[20_30]_0_2ep_True\n",
    "run_folder = os.path.join(results_folder, save_name)\n",
    "if not os.path.exists(run_folder):\n",
    "    os.makedirs(run_folder)\n",
    "save_file = os.path.join(run_folder, save_name+'.p')\n",
    "pickle.dump([test_output_compiled, test_spec_compiled], open(save_file, 'w'))"
   ]
  },
  {
   "cell_type": "code",
   "execution_count": 84,
   "metadata": {},
   "outputs": [
    {
     "name": "stdout",
     "output_type": "stream",
     "text": [
      "[0, 10, 20, 29, 38, 47, 56, 65, 74, 83]\n"
     ]
    }
   ],
   "source": [
    "#[test_output_compiled, rmse, example_test_output] = pickle.load(open(save_file, 'rb'))\n",
    "#print(np.mean(rmse))\n",
    "num_bins_per_part = spp.divide_parts(num_songs, divisor)\n",
    "start_index, end_index = spp.find_start_end_index(num_bins_per_part)\n",
    "print(start_index)"
   ]
  },
  {
   "cell_type": "code",
   "execution_count": 78,
   "metadata": {},
   "outputs": [
    {
     "name": "stdout",
     "output_type": "stream",
     "text": [
      "[7]\n"
     ]
    },
    {
     "ename": "TypeError",
     "evalue": "list indices must be integers, not list",
     "output_type": "error",
     "traceback": [
      "\u001b[0;31m\u001b[0m",
      "\u001b[0;31mTypeError\u001b[0mTraceback (most recent call last)",
      "\u001b[0;32m<ipython-input-78-c02fb60df9e4>\u001b[0m in \u001b[0;36m<module>\u001b[0;34m()\u001b[0m\n\u001b[1;32m      2\u001b[0m \u001b[0mA\u001b[0m \u001b[0;34m=\u001b[0m \u001b[0;34m[\u001b[0m\u001b[0;36m2\u001b[0m\u001b[0;34m,\u001b[0m\u001b[0;36m3\u001b[0m\u001b[0;34m,\u001b[0m\u001b[0;36m4\u001b[0m\u001b[0;34m,\u001b[0m\u001b[0;36m5\u001b[0m\u001b[0;34m]\u001b[0m\u001b[0;34m\u001b[0m\u001b[0m\n\u001b[1;32m      3\u001b[0m \u001b[0;32mprint\u001b[0m\u001b[0;34m(\u001b[0m\u001b[0mtest_indeces\u001b[0m\u001b[0;34m)\u001b[0m\u001b[0;34m\u001b[0m\u001b[0m\n\u001b[0;32m----> 4\u001b[0;31m \u001b[0mA\u001b[0m\u001b[0;34m[\u001b[0m\u001b[0mtest_indeces\u001b[0m\u001b[0;34m]\u001b[0m\u001b[0;34m\u001b[0m\u001b[0m\n\u001b[0m",
      "\u001b[0;31mTypeError\u001b[0m: list indices must be integers, not list"
     ]
    }
   ],
   "source": [
    "##TEST ONLY\n",
    "A = [2,3,4,5]\n",
    "print(test_indeces)\n",
    "A[test_indeces]"
   ]
  },
  {
   "cell_type": "code",
   "execution_count": 88,
   "metadata": {
    "collapsed": true,
    "scrolled": true
   },
   "outputs": [],
   "source": [
    "##TEST ONLY\n",
    "def invert_spectrogram(X_s, step, calculate_offset=True, set_zero_phase=True):\n",
    "    \"\"\"\n",
    "    Under MSR-LA License\n",
    "    Based on MATLAB implementation from Spectrogram Inversion Toolbox\n",
    "    References\n",
    "    ----------\n",
    "    D. Griffin and J. Lim. Signal estimation from modified\n",
    "    short-time Fourier transform. IEEE Trans. Acoust. Speech\n",
    "    Signal Process., 32(2):236-243, 1984.\n",
    "    Malcolm Slaney, Daniel Naar and Richard F. Lyon. Auditory\n",
    "    Model Inversion for Sound Separation. Proc. IEEE-ICASSP,\n",
    "    Adelaide, 1994, II.77-80.\n",
    "    Xinglei Zhu, G. Beauregard, L. Wyse. Real-Time Signal\n",
    "    Estimation from Modified Short-Time Fourier Transform\n",
    "    Magnitude Spectra. IEEE Transactions on Audio Speech and\n",
    "    Language Processing, 08/2007.\n",
    "    \"\"\"\n",
    "    size = int(X_s.shape[1] // 2)\n",
    "    wave = np.zeros((X_s.shape[0] * step + size))\n",
    "    # Getting overflow warnings with 32 bit...\n",
    "    wave = wave.astype('float64')\n",
    "    total_windowing_sum = np.zeros((X_s.shape[0] * step + size))\n",
    "    win = 0.54 - .46 * np.cos(2 * np.pi * np.arange(size) / (size - 1))\n",
    "\n",
    "    est_start = int(size // 2) - 1\n",
    "    est_end = est_start + size\n",
    "    for i in range(X_s.shape[0]):\n",
    "        wave_start = int(step * i)\n",
    "        wave_end = wave_start + size\n",
    "        if set_zero_phase:\n",
    "            spectral_slice = X_s[i].real + 0j\n",
    "        else:\n",
    "            # already complex\n",
    "            spectral_slice = X_s[i]\n",
    "\n",
    "        # Don't need fftshift due to different impl.\n",
    "        wave_est = np.real(np.fft.ifft(spectral_slice))[::-1]\n",
    "        if calculate_offset and i > 0:\n",
    "            offset_size = size - step\n",
    "            if offset_size <= 0:\n",
    "                print(\"WARNING: Large step size >50% detected! \"\n",
    "                      \"This code works best with high overlap - try \"\n",
    "                      \"with 75% or greater\")\n",
    "                offset_size = step\n",
    "            offset = spp.xcorr_offset(wave[wave_start:wave_start + offset_size],\n",
    "                                  wave_est[est_start:est_start + offset_size])\n",
    "        else:\n",
    "            offset = 0\n",
    "        wave[wave_start:wave_end] += win * wave_est[\n",
    "            est_start - offset:est_end - offset]\n",
    "        total_windowing_sum[wave_start:wave_end] += win\n",
    "    wave = np.real(wave) / (total_windowing_sum + 1E-6)\n",
    "    return wave"
   ]
  },
  {
   "cell_type": "code",
   "execution_count": 79,
   "metadata": {},
   "outputs": [
    {
     "name": "stdout",
     "output_type": "stream",
     "text": [
      "[0.37714627, 0.30452693]\n"
     ]
    }
   ],
   "source": [
    "reload(spp)\n",
    "predicted_song_compiled, original_song_compiled, rmse = spp.sort_songs(test_output_compiled, test_spec_compiled,\n",
    "                                                                       num_songs, num_bins, divisor, \n",
    "                                                                       break_song=break_song, test_indeces=test_indeces)"
   ]
  },
  {
   "cell_type": "code",
   "execution_count": 86,
   "metadata": {
    "collapsed": true
   },
   "outputs": [],
   "source": [
    "save_file = os.path.join(run_folder,save_name+'.p')\n",
    "pickle.dump([predicted_song_compiled, original_song_compiled, rmse], open(save_file, 'w'))"
   ]
  },
  {
   "cell_type": "code",
   "execution_count": 85,
   "metadata": {},
   "outputs": [
    {
     "name": "stdout",
     "output_type": "stream",
     "text": [
      "9\n",
      "0    0.347507\n",
      "1    0.326894\n",
      "2    0.304527\n",
      "3    0.377146\n",
      "4    0.341419\n",
      "5    0.330230\n",
      "6    0.331320\n",
      "7    0.328610\n",
      "8    0.320705\n",
      "Name: 0, dtype: float64\n",
      "0.334262\n",
      "[0.37714627, 0.34750682, 0.34141922, 0.33132038]\n"
     ]
    }
   ],
   "source": [
    "import heapq\n",
    "print(num_bins_per_part[test_indeces[0]])\n",
    "print(pd.DataFrame(rmse)[0])\n",
    "print(np.mean(rmse))\n",
    "print(heapq.nlargest(4, rmse))"
   ]
  },
  {
   "cell_type": "code",
   "execution_count": 29,
   "metadata": {
    "collapsed": true
   },
   "outputs": [],
   "source": [
    "fft_size = 2048 # window size for the FFT\n",
    "step_size = fft_size/16 # distance to slide along the window (in time)\n",
    "spec_thresh = 5 # threshold for spectrograms (lower filters out more noise)\n",
    "lowcut = 500 # Hz # Low cut for our butter bandpass filter\n",
    "highcut = 15000 # Hz # High cut for our butter bandpass filter\n",
    "# For mels\n",
    "n_mel_freq_components = 64 # number of mel frequency channels\n",
    "shorten_factor = 1 # how much should we compress the x-axis (time)\n",
    "start_freq = 200 # Hz # What frequency to start sampling our melS from \n",
    "end_freq = 15000 # Hz # What frequency to stop sampling our melS from \n",
    "rate = 30000\n",
    "mel_filter, mel_inversion_filter = spp.create_mel_filter(fft_size = fft_size,\n",
    "                                                        n_freq_components = n_mel_freq_components,\n",
    "                                                        start_freq = start_freq,\n",
    "                                                        end_freq = end_freq, samplerate=rate)"
   ]
  },
  {
   "cell_type": "code",
   "execution_count": 30,
   "metadata": {},
   "outputs": [
    {
     "data": {
      "image/png": "[encoded data removed]",
      "text/plain": [
       "<matplotlib.figure.Figure at 0x7f15a875cb50>"
      ]
     },
     "metadata": {},
     "output_type": "display_data"
    }
   ],
   "source": [
    "song_index = 7\n",
    "example = np.array(predicted_song_compiled[song_index]).transpose()\n",
    "spp.plotspec(example)\n",
    "plt.title('Predicted Mel Spectrogram')\n",
    "#plt.savefig(os.path.join(run_folder, '%d_p.png' %(song_index)))"
   ]
  },
  {
   "cell_type": "code",
   "execution_count": null,
   "metadata": {
    "collapsed": true
   },
   "outputs": [],
   "source": [
    "inverted_mel_audio = spp.spec2wav(example, mel_inversion_filter, spec_thresh, shorten_factor, fft_size, step_size)\n",
    "plt.plot(inverted_mel_audio)\n",
    "IPython.display.Audio(data=inverted_mel_audio, rate=rate)"
   ]
  },
  {
   "cell_type": "code",
   "execution_count": null,
   "metadata": {
    "collapsed": true
   },
   "outputs": [],
   "source": [
    "original = np.array(original_song_compiled[song_index]).transpose()\n",
    "spp.plotspec(original)\n",
    "plt.title('Original Mel Spectrogram')\n",
    "plt.savefig(os.path.join(run_folder, '%d_o.png' %(song_index)))"
   ]
  },
  {
   "cell_type": "code",
   "execution_count": null,
   "metadata": {
    "collapsed": true
   },
   "outputs": [],
   "source": [
    "original_mel_audio = spp.spec2wav(original, mel_inversion_filter, spec_thresh, shorten_factor, fft_size, step_size)\n",
    "plt.plot(original_mel_audio)\n",
    "IPython.display.Audio(data=original_mel_audio, rate=rate)"
   ]
  },
  {
   "cell_type": "code",
   "execution_count": null,
   "metadata": {
    "collapsed": true
   },
   "outputs": [],
   "source": [
    "break_song = True\n",
    "divisor=60\n",
    "\n",
    "rmse = list()\n",
    "test_output_compiled = list()\n",
    "example_test_output = list()\n",
    "\n",
    "for test_index in range(divisor):\n",
    "    \n",
    "    print('Starting preparing for No.'+ str(test_index+1)+ ' of '+str(divisor)+' parts.')\n",
    "\n",
    "    train_list, test_list = make_train_test(datasets, num_bins, divisor=divisor, break_song=break_song, test_index = test_index)\n",
    "    #both lists [neural data, on/off, beta, alpha]\n",
    "    train_neuro = np.array(train_list[0])\n",
    "    test_neuro = np.array(test_list[0])\n",
    "\n",
    "    train_spec = np.array(train_list[1])\n",
    "    test_spec = np.array(test_list[1])\n",
    "\n",
    "    #train_neuro = train_neuro/np.max(train_neuro)\n",
    "    #test_neuro = test_neuro/np.max(test_neuro)\n",
    "\n",
    "    train_neuro = np.reshape(train_neuro, (train_neuro.shape[0], num_lookbacks, num_channels))\n",
    "    test_neuro = np.reshape(test_neuro, (test_neuro.shape[0], num_lookbacks, num_channels))\n",
    "\n",
    "    #train_neuro = np.reshape(train_neuro, (train_neuro.shape[0], 1, train_neuro.shape[1]))\n",
    "    #test_neuro = np.reshape(test_neuro, (test_neuro.shape[0], 1, test_neuro.shape[1]))\n",
    "\n",
    "    model1 = Sequential()\n",
    "\n",
    "    #num_lookback = len(datasets[0][0])//num_channels\n",
    "    #print('The number of lookbacks in this model is '+ str(num_lookbacks) + '\\n')\n",
    "\n",
    "\n",
    "    model1.add(LSTM(20, input_shape = (num_lookbacks, num_channels),return_sequences=True))\n",
    "    #model1.add(LSTM(10, input_dim = num_lookback*num_channels,return_sequences=True))\n",
    "    model1.add(Dropout(0.2))\n",
    "    model1.add(LSTM(30))\n",
    "    model1.add(Dropout(0.2))\n",
    "    model1.add(Dense(len(datasets[0][1])))\n",
    "\n",
    "    print('Model building finished.')\n",
    "    \n",
    "    model1.compile(loss = 'mean_squared_error', optimizer = 'adam')\n",
    "\n",
    "    model1.fit(train_neuro, train_spec, nb_epoch=2, batch_size=1, verbose=1)\n",
    "    \n",
    "    original = np.loadtxt(os.path.join(bird_folder, 'mel_spectrogram.dat')).transpose()\n",
    "\n",
    "    num_bins_per_part = divide_parts(num_bins, divisor)\n",
    "    start_index, end_index = find_start_end_index(num_bins_per_part)\n",
    "\n",
    "    original_part = original[:,start_index[test_index]:end_index[test_index]]\n",
    "    \n",
    "    train_output = model1.predict(train_neuro)\n",
    "    test_output = model1.predict(test_neuro)\n",
    "\n",
    "    example1 = test_output[:num_bins_per_part[test_index],:].transpose()\n",
    "    \n",
    "    rmse.append(np.sqrt(np.mean(np.square(example1-original_part))))\n",
    "    \n",
    "    test_output_compiled.append(test_output)\n",
    "    \n",
    "    example_test_output += list(example1.transpose())\n",
    "    print('Data recorded.')\n",
    "    \n",
    "    print('-'*50+'\\n')\n",
    "    "
   ]
  },
  {
   "cell_type": "code",
   "execution_count": null,
   "metadata": {
    "collapsed": true
   },
   "outputs": [],
   "source": [
    "example1 = test_output[:2*num_bins,:].transpose()\n",
    "testspec1 = test_spec[:2*num_bins,:].transpose()\n",
    "\n",
    "rmse = np.sqrt(np.mean(np.square(example1-testspec1)))\n",
    "print('RMS for this prediction is '+str(rmse))\n",
    "\n",
    "fig, ax = plt.subplots(nrows=1,ncols=1, figsize=(20,4))\n",
    "\n",
    "cax = ax.matshow(example1, interpolation='nearest', aspect='auto', cmap=plt.cm.afmhot, origin='lower')\n",
    "fig.colorbar(cax)\n",
    "plt.title('predicted mel Spectrogram')\n",
    "plt.savefig(os.path.join(results_folder, save_name+'.png'))"
   ]
  },
  {
   "cell_type": "code",
   "execution_count": null,
   "metadata": {
    "collapsed": true
   },
   "outputs": [],
   "source": [
    "fig1, ax1 = plt.subplots(nrows=1,ncols=1, figsize=(20,4))\n",
    "\n",
    "cax1 = ax1.matshow(testspec1, interpolation='nearest', aspect='auto', cmap=plt.cm.afmhot, origin='lower')\n",
    "fig1.colorbar(cax1)\n",
    "plt.title('original mel Spectrogram')\n",
    "plt.savefig(os.path.join(results_folder, 'original.png'))"
   ]
  },
  {
   "cell_type": "code",
   "execution_count": null,
   "metadata": {
    "collapsed": true
   },
   "outputs": [],
   "source": [
    "original_inverted_spectrogram = spp.mel_to_spectrogram(testspec1, mel_inversion_filter,\n",
    "                                                spec_thresh=spec_thresh,\n",
    "                                                shorten_factor=shorten_factor)\n",
    "inverted_original_audio = spp.invert_pretty_spectrogram(np.transpose(original_inverted_spectrogram), fft_size = fft_size,\n",
    "                                            step_size = step_size, log = True, n_iter = 10)\n",
    "plt.plot(inverted_original_audio)\n",
    "plt.savefig(os.path.join(results_folder, 'original_wav.png'))\n",
    "IPython.display.Audio(data=inverted_original_audio, rate=rate)"
   ]
  },
  {
   "cell_type": "code",
   "execution_count": null,
   "metadata": {
    "collapsed": true
   },
   "outputs": [],
   "source": [
    "test_output = pickle.load(open(os.path.join(results_folder, '90%_30_20_nol2_4ep.p'), 'rb'))"
   ]
  },
  {
   "cell_type": "code",
   "execution_count": null,
   "metadata": {
    "collapsed": true,
    "scrolled": true
   },
   "outputs": [],
   "source": [
    "for i in range(int(7104//num_bins)):\n",
    "    example = test_output[i*num_bins:(i+1)*num_bins,:].transpose()\n",
    "    testspec = test_spec[i*num_bins:(i+1)*num_bins,:].transpose()\n",
    "\n",
    "    rmse = np.sqrt(np.mean(np.square(example-testspec)))\n",
    "    print('RMS for prediction '+str(i)+' is '+str(rmse))\n",
    "    \n",
    "    example_inverted_spectrogram = spp.mel_to_spectrogram(example, mel_inversion_filter,\n",
    "                                                    spec_thresh=spec_thresh,\n",
    "                                                    shorten_factor=shorten_factor)\n",
    "    inverted_mel_audio = spp.invert_pretty_spectrogram(np.transpose(example_inverted_spectrogram), fft_size = fft_size,\n",
    "                                                step_size = step_size, log = True, n_iter = 10)\n",
    "    plt.figure()\n",
    "    plt.title('predicted wav: '+str(i))\n",
    "    plt.plot(inverted_mel_audio)\n",
    "    \n",
    "    plt.figure()\n",
    "    original_inverted_spectrogram = spp.mel_to_spectrogram(testspec, mel_inversion_filter,\n",
    "                                                    spec_thresh=spec_thresh,\n",
    "                                                    shorten_factor=shorten_factor)\n",
    "    inverted_original_audio = spp.invert_pretty_spectrogram(np.transpose(original_inverted_spectrogram), fft_size = fft_size,\n",
    "                                                step_size = step_size, log = True, n_iter = 10)\n",
    "    plt.title('original wav: '+str(i))\n",
    "    plt.plot(inverted_original_audio)\n",
    "    \n",
    "    print('-'*60+'\\n')"
   ]
  },
  {
   "cell_type": "code",
   "execution_count": null,
   "metadata": {
    "collapsed": true
   },
   "outputs": [],
   "source": [
    "fig, ax = plt.subplots(nrows=1,ncols=1, figsize=(20,4))\n",
    "\n",
    "example_spec = np.array(example_test_output).transpose()\n",
    "cax = ax.matshow(example_spec, interpolation='nearest', aspect='auto', cmap=plt.cm.afmhot, origin='lower')\n",
    "fig.colorbar(cax)\n",
    "plt.title('predicted mel Spectrogram')"
   ]
  },
  {
   "cell_type": "code",
   "execution_count": null,
   "metadata": {
    "collapsed": true
   },
   "outputs": [],
   "source": [
    "matrix = np.matrix(test_neuro[5000].transpose())\n",
    "plt.imshow(matrix)"
   ]
  },
  {
   "cell_type": "code",
   "execution_count": null,
   "metadata": {
    "collapsed": true
   },
   "outputs": [],
   "source": [
    "fft_size = 2048 # window size for the FFT\n",
    "step_size = fft_size/16 # distance to slide along the window (in time)\n",
    "spec_thresh = 5 # threshold for spectrograms (lower filters out more noise)\n",
    "lowcut = 500 # Hz # Low cut for our butter bandpass filter\n",
    "highcut = 15000 # Hz # High cut for our butter bandpass filter\n",
    "# For mels\n",
    "n_mel_freq_components = 64 # number of mel frequency channels\n",
    "shorten_factor = 1 # how much should we compress the x-axis (time)\n",
    "start_freq = 200 # Hz # What frequency to start sampling our melS from \n",
    "end_freq = 15000 # Hz # What frequency to stop sampling our melS from \n",
    "rate = 30000\n",
    "mel_filter, mel_inversion_filter = create_mel_filter(fft_size = fft_size,\n",
    "                                                        n_freq_components = n_mel_freq_components,\n",
    "                                                        start_freq = start_freq,\n",
    "                                                        end_freq = end_freq)"
   ]
  },
  {
   "cell_type": "code",
   "execution_count": null,
   "metadata": {
    "collapsed": true
   },
   "outputs": [],
   "source": [
    "example_inverted_spectrogram = mel_to_spectrogram(example_spec, mel_inversion_filter,\n",
    "                                                spec_thresh=spec_thresh,\n",
    "                                                shorten_factor=shorten_factor)\n",
    "inverted_mel_audio = invert_pretty_spectrogram(np.transpose(example_inverted_spectrogram), fft_size = fft_size,\n",
    "                                            step_size = step_size, log = True, n_iter = 10)\n",
    "plt.plot(inverted_mel_audio)\n",
    "IPython.display.Audio(data=inverted_mel_audio, rate=rate)"
   ]
  },
  {
   "cell_type": "code",
   "execution_count": null,
   "metadata": {
    "collapsed": true
   },
   "outputs": [],
   "source": [
    "pickle.dump(test_output_compiled, open(os.path.join(results_folder,'shifting test model.p'),'wb'))\n",
    "np.savetxt(os.path.join(results_folder,'example shifting test model.dat'), example_spec)"
   ]
  },
  {
   "cell_type": "code",
   "execution_count": null,
   "metadata": {
    "collapsed": true
   },
   "outputs": [],
   "source": [
    "fft_size = 2048 # window size for the FFT\n",
    "step_size = fft_size/16 # distance to slide along the window (in time)\n",
    "spec_thresh = 5 # threshold for spectrograms (lower filters out more noise)\n",
    "lowcut = 500 # Hz # Low cut for our butter bandpass filter\n",
    "highcut = 15000 # Hz # High cut for our butter bandpass filter\n",
    "# For mels\n",
    "n_mel_freq_components = 64 # number of mel frequency channels\n",
    "shorten_factor = 1 # how much should we compress the x-axis (time)\n",
    "start_freq = 200 # Hz # What frequency to start sampling our melS from \n",
    "end_freq = 15000 # Hz # What frequency to stop sampling our melS from \n",
    "rate = 30000\n",
    "\n",
    "mel_filter, mel_inversion_filter = create_mel_filter(fft_size = fft_size,\n",
    "                                                        n_freq_components = n_mel_freq_components,\n",
    "                                                        start_freq = start_freq,\n",
    "                                                        end_freq = end_freq)\n",
    "\n",
    "predicted_inv_spec = mel_to_spectrogram(example1, mel_inversion_filter,\n",
    "                                                spec_thresh=spec_thresh,\n",
    "                                                shorten_factor=shorten_factor)\n",
    "original_inv_spec = mel_to_spectrogram(original, mel_inversion_filter,\n",
    "                                                spec_thresh=spec_thresh,\n",
    "                                                shorten_factor=shorten_factor)\n",
    "\n",
    "predicted_inv_audio = invert_pretty_spectrogram(np.transpose(predicted_inv_spec), fft_size = fft_size,\n",
    "                                            step_size = step_size, log = True, n_iter = 10)\n",
    "\n",
    "original_inv_audio = invert_pretty_spectrogram(np.transpose(original_inv_spec), fft_size = fft_size,\n",
    "                                            step_size = step_size, log = True, n_iter = 10)\n",
    "\n",
    "plt.figure()\n",
    "plt.plot(predicted_inv_audio)\n",
    "plt.title('predicted waveform')\n",
    "plt.figure()\n",
    "plt.plot(original_inv_audio)\n",
    "plt.title('source waveform')\n",
    "\n",
    "IPython.display.Audio(data=predicted_inv_audio, rate=rate)"
   ]
  },
  {
   "cell_type": "code",
   "execution_count": null,
   "metadata": {
    "collapsed": true
   },
   "outputs": [],
   "source": [
    "IPython.display.Audio(data=original_inv_audio, rate=rate)"
   ]
  },
  {
   "cell_type": "code",
   "execution_count": null,
   "metadata": {
    "collapsed": true
   },
   "outputs": [],
   "source": [
    "save_name = 'mels_2030'\n",
    "\n",
    "current_save_file = os.path.join(results_folder, save_name+'dat')\n",
    "np.savetxt(current_save_file, test_output)\n"
   ]
  },
  {
   "cell_type": "code",
   "execution_count": null,
   "metadata": {
    "collapsed": true
   },
   "outputs": [],
   "source": [
    "def plot_spectrogram(x, before_ms, after_ms, s_f, n_window = 192, n_overlap = None, sigma=None, ax=None, **kwargs):\n",
    "    \n",
    "    if n_overlap is None:\n",
    "        n_overlap = n_window/2\n",
    "    if sigma is None:\n",
    "        sigma = 1./1000.*s_f\n",
    "    \n",
    "    # Make the spectrogram\n",
    "    f, t, Sxx = spectrogram(x, s_f, nperseg = n_window, noverlap=n_overlap, window = sg.gaussian(n_window, sigma), \n",
    "                            scaling='spectrum')\n",
    "    \n",
    "    Sxx[[Sxx<np.max((Sxx)*0.000065)]]=1\n",
    "\n",
    "    span_before = np.zeros((Sxx.shape[0], np.int(before_ms/1000. * s_f)))\n",
    "    span_after = np.zeros((Sxx.shape[0], np.int(after_ms/1000. * s_f) + x.size - Sxx.shape[1]))\n",
    "    span_before[:] = np.nan\n",
    "    span_after[:] = np.nan\n",
    "    #Sxx = np.hstack((span_before, (Sxx), span_after))\n",
    "    \n",
    "    if ax is None:\n",
    "        spec_fig = plt.figure()\n",
    "        ax = spec_fig.add_axes([0, 0, 1, 1])\n",
    "        \n",
    "    ax.pcolormesh(((t-0.5*n_window/s_f)*1000.), f, np.log(Sxx), rasterized=True)\n",
    "    ax.set_xlim(-before_ms, after_ms + int(x.size/s_f * 1000.))\n",
    "    ax.set_ylim(0,10000)\n",
    "    #ax.plot((span_before.shape[1], span_before.shape[1]), (np.min(f), np.max(f)), 'k--')\n",
    "    \n",
    "    return Sxx, ax\n",
    "\n",
    "def stream_resample(stream, s_f, new_s_f):\n",
    "    n_samples = stream.shape[0]\n",
    "    new_samples = int(n_samples* new_s_f / s_f)\n",
    "    if int(s_f) == int(new_s_f):\n",
    "        resampled = stream\n",
    "    elif int(s_f) < int(new_s_f):\n",
    "        xcoords = np.linspace(0,n_samples,n_samples)\n",
    "        newxcoords = np.linspace(0,n_samples,new_samples)\n",
    "        resampled = list()\n",
    "        print(type(resampled))\n",
    "        for i in range(stream.shape[1]):\n",
    "            ycoords = stream[:,i]\n",
    "            newycoords = np.interp(newxcoords, xcoords, ycoords)\n",
    "            resampled.append(newycoords)\n",
    "    else:\n",
    "        resampled = resample(stream, new_samples)\n",
    "    return resampled\n",
    "\n",
    "def load_syn_stream(syn_sess=1, s_f=44100, new_s_f=30000, parameter_file='./syn_bos.dat'):\n",
    "    #stim_folder = et.file_names(bird)['folders']['stim']\n",
    "    #syn_file = os.path.join(folder, bird_id, file_base + '.dat')\n",
    "    return stream_resample(np.loadtxt(parameter_file), s_f, new_s_f)\n"
   ]
  },
  {
   "cell_type": "code",
   "execution_count": null,
   "metadata": {
    "collapsed": true
   },
   "outputs": [],
   "source": [
    "# Most of the Spectrograms and Inversion are taken from: https://gist.github.com/kastnerkyle/179d6e9a88202ab0a2fe\n",
    "\n",
    "def butter_bandpass(lowcut, highcut, fs, order=5):\n",
    "    nyq = 0.5 * fs\n",
    "    low = lowcut / nyq\n",
    "    high = highcut / nyq\n",
    "    b, a = butter(order, [low, high], btype='band')\n",
    "    return b, a\n",
    "\n",
    "def butter_bandpass_filter(data, lowcut, highcut, fs, order=5):\n",
    "    b, a = butter_bandpass(lowcut, highcut, fs, order=order)\n",
    "    y = lfilter(b, a, data)\n",
    "    return y\n",
    "\n",
    "def overlap(X, window_size, window_step):\n",
    "    \"\"\"\n",
    "    Create an overlapped version of X\n",
    "    Parameters\n",
    "    ----------\n",
    "    X : ndarray, shape=(n_samples,)\n",
    "        Input signal to window and overlap\n",
    "    window_size : int\n",
    "        Size of windows to take\n",
    "    window_step : int\n",
    "        Step size between windows\n",
    "    Returns\n",
    "    -------\n",
    "    X_strided : shape=(n_windows, window_size)\n",
    "        2D array of overlapped X\n",
    "    \"\"\"\n",
    "    if window_size % 2 != 0:\n",
    "        raise ValueError(\"Window size must be even!\")\n",
    "    # Make sure there are an even number of windows before stridetricks\n",
    "    append = np.zeros((window_size - len(X) % window_size))\n",
    "    X = np.hstack((X, append))\n",
    "\n",
    "    ws = window_size\n",
    "    ss = window_step\n",
    "    a = X\n",
    "\n",
    "    valid = len(a) - ws\n",
    "    nw = int((valid) // ss)\n",
    "    out = np.ndarray((nw,ws),dtype = a.dtype)\n",
    "\n",
    "    for i in xrange(nw):\n",
    "        # \"slide\" the window along the samples\n",
    "        start = i * ss\n",
    "        stop = start + ws\n",
    "        out[i] = a[start : stop]\n",
    "\n",
    "    return out\n",
    "\n",
    "\n",
    "def stft(X, fftsize=128, step=65, mean_normalize=True, real=False,\n",
    "         compute_onesided=True):\n",
    "    \"\"\"\n",
    "    Compute STFT for 1D real valued input X\n",
    "    \"\"\"\n",
    "    if real:\n",
    "        local_fft = np.fft.rfft\n",
    "        cut = -1\n",
    "    else:\n",
    "        local_fft = np.fft.fft\n",
    "        cut = None\n",
    "    if compute_onesided:\n",
    "        cut = fftsize // 2\n",
    "    if mean_normalize:\n",
    "        X -= X.mean()\n",
    "\n",
    "    X = overlap(X, fftsize, step)\n",
    "    \n",
    "    size = fftsize\n",
    "    win = 0.54 - .46 * np.cos(2 * np.pi * np.arange(size) / (size - 1))\n",
    "    X = X * win[None]\n",
    "    X = local_fft(X)[:, :cut]\n",
    "    return X\n",
    "\n",
    "def pretty_spectrogram(d,log = True, thresh= 5, fft_size = 512, step_size = 64):\n",
    "    \"\"\"\n",
    "    creates a spectrogram\n",
    "    log: take the log of the spectrgram\n",
    "    thresh: threshold minimum power for log spectrogram\n",
    "    \"\"\"\n",
    "    specgram = np.abs(stft(d, fftsize=fft_size, step=step_size, real=False,\n",
    "        compute_onesided=True))\n",
    "  \n",
    "    if log == True:\n",
    "        specgram /= specgram.max() # volume normalize to max 1\n",
    "        specgram = np.log10(specgram) # take log\n",
    "        specgram[specgram < -thresh] = -thresh # set anything less than the threshold as the threshold\n",
    "    else:\n",
    "        specgram[specgram < thresh] = thresh # set anything less than the threshold as the threshold\n",
    "    \n",
    "    return specgram\n",
    "\n",
    "# Also mostly modified or taken from https://gist.github.com/kastnerkyle/179d6e9a88202ab0a2fe\n",
    "def invert_pretty_spectrogram(X_s, log = True, fft_size = 512, step_size = 512/4, n_iter = 10):\n",
    "    \n",
    "    if log == True:\n",
    "        X_s = np.power(10, X_s)\n",
    "\n",
    "    X_s = np.concatenate([X_s, X_s[:, ::-1]], axis=1)\n",
    "    X_t = iterate_invert_spectrogram(X_s, fft_size, step_size, n_iter=n_iter)\n",
    "    return X_t\n",
    "\n",
    "def iterate_invert_spectrogram(X_s, fftsize, step, n_iter=10, verbose=False):\n",
    "    \"\"\"\n",
    "    Under MSR-LA License\n",
    "    Based on MATLAB implementation from Spectrogram Inversion Toolbox\n",
    "    References\n",
    "    ----------\n",
    "    D. Griffin and J. Lim. Signal estimation from modified\n",
    "    short-time Fourier transform. IEEE Trans. Acoust. Speech\n",
    "    Signal Process., 32(2):236-243, 1984.\n",
    "    Malcolm Slaney, Daniel Naar and Richard F. Lyon. Auditory\n",
    "    Model Inversion for Sound Separation. Proc. IEEE-ICASSP,\n",
    "    Adelaide, 1994, II.77-80.\n",
    "    Xinglei Zhu, G. Beauregard, L. Wyse. Real-Time Signal\n",
    "    Estimation from Modified Short-Time Fourier Transform\n",
    "    Magnitude Spectra. IEEE Transactions on Audio Speech and\n",
    "    Language Processing, 08/2007.\n",
    "    \"\"\"\n",
    "    reg = np.max(X_s) / 1E8\n",
    "    X_best = copy.deepcopy(X_s)\n",
    "    for i in range(n_iter):\n",
    "        if verbose:\n",
    "            print(\"Runnning iter %i\" % i)\n",
    "        if i == 0:\n",
    "            X_t = invert_spectrogram(X_best, step, calculate_offset=True,\n",
    "                                     set_zero_phase=True)\n",
    "        else:\n",
    "            # Calculate offset was False in the MATLAB version\n",
    "            # but in mine it massively improves the result\n",
    "            # Possible bug in my impl?\n",
    "            X_t = invert_spectrogram(X_best, step, calculate_offset=True,\n",
    "                                     set_zero_phase=False)\n",
    "        est = stft(X_t, fftsize=fftsize, step=step, compute_onesided=False)\n",
    "        phase = est / np.maximum(reg, np.abs(est))\n",
    "        X_best = X_s * phase[:len(X_s)]\n",
    "    X_t = invert_spectrogram(X_best, step, calculate_offset=True,\n",
    "                             set_zero_phase=False)\n",
    "    return np.real(X_t)\n",
    "\n",
    "def invert_spectrogram(X_s, step, calculate_offset=True, set_zero_phase=True):\n",
    "    \"\"\"\n",
    "    Under MSR-LA License\n",
    "    Based on MATLAB implementation from Spectrogram Inversion Toolbox\n",
    "    References\n",
    "    ----------\n",
    "    D. Griffin and J. Lim. Signal estimation from modified\n",
    "    short-time Fourier transform. IEEE Trans. Acoust. Speech\n",
    "    Signal Process., 32(2):236-243, 1984.\n",
    "    Malcolm Slaney, Daniel Naar and Richard F. Lyon. Auditory\n",
    "    Model Inversion for Sound Separation. Proc. IEEE-ICASSP,\n",
    "    Adelaide, 1994, II.77-80.\n",
    "    Xinglei Zhu, G. Beauregard, L. Wyse. Real-Time Signal\n",
    "    Estimation from Modified Short-Time Fourier Transform\n",
    "    Magnitude Spectra. IEEE Transactions on Audio Speech and\n",
    "    Language Processing, 08/2007.\n",
    "    \"\"\"\n",
    "    size = int(X_s.shape[1] // 2)\n",
    "    wave = np.zeros((X_s.shape[0] * step + size))\n",
    "    # Getting overflow warnings with 32 bit...\n",
    "    wave = wave.astype('float64')\n",
    "    total_windowing_sum = np.zeros((X_s.shape[0] * step + size))\n",
    "    win = 0.54 - .46 * np.cos(2 * np.pi * np.arange(size) / (size - 1))\n",
    "\n",
    "    est_start = int(size // 2) - 1\n",
    "    est_end = est_start + size\n",
    "    for i in range(X_s.shape[0]):\n",
    "        wave_start = int(step * i)\n",
    "        wave_end = wave_start + size\n",
    "        if set_zero_phase:\n",
    "            spectral_slice = X_s[i].real + 0j\n",
    "        else:\n",
    "            # already complex\n",
    "            spectral_slice = X_s[i]\n",
    "\n",
    "        # Don't need fftshift due to different impl.\n",
    "        wave_est = np.real(np.fft.ifft(spectral_slice))[::-1]\n",
    "        if calculate_offset and i > 0:\n",
    "            offset_size = size - step\n",
    "            if offset_size <= 0:\n",
    "                print(\"WARNING: Large step size >50\\% detected! \"\n",
    "                      \"This code works best with high overlap - try \"\n",
    "                      \"with 75% or greater\")\n",
    "                offset_size = step\n",
    "            offset = xcorr_offset(wave[wave_start:wave_start + offset_size],\n",
    "                                  wave_est[est_start:est_start + offset_size])\n",
    "        else:\n",
    "            offset = 0\n",
    "        wave[wave_start:wave_end] += win * wave_est[\n",
    "            est_start - offset:est_end - offset]\n",
    "        total_windowing_sum[wave_start:wave_end] += win\n",
    "    wave = np.real(wave) / (total_windowing_sum + 1E-6)\n",
    "    return wave\n",
    "\n",
    "def xcorr_offset(x1, x2):\n",
    "    \"\"\"\n",
    "    Under MSR-LA License\n",
    "    Based on MATLAB implementation from Spectrogram Inversion Toolbox\n",
    "    References\n",
    "    ----------\n",
    "    D. Griffin and J. Lim. Signal estimation from modified\n",
    "    short-time Fourier transform. IEEE Trans. Acoust. Speech\n",
    "    Signal Process., 32(2):236-243, 1984.\n",
    "    Malcolm Slaney, Daniel Naar and Richard F. Lyon. Auditory\n",
    "    Model Inversion for Sound Separation. Proc. IEEE-ICASSP,\n",
    "    Adelaide, 1994, II.77-80.\n",
    "    Xinglei Zhu, G. Beauregard, L. Wyse. Real-Time Signal\n",
    "    Estimation from Modified Short-Time Fourier Transform\n",
    "    Magnitude Spectra. IEEE Transactions on Audio Speech and\n",
    "    Language Processing, 08/2007.\n",
    "    \"\"\"\n",
    "    x1 = x1 - x1.mean()\n",
    "    x2 = x2 - x2.mean()\n",
    "    frame_size = len(x2)\n",
    "    half = frame_size // 2\n",
    "    corrs = np.convolve(x1.astype('float32'), x2[::-1].astype('float32'))\n",
    "    corrs[:half] = -1E30\n",
    "    corrs[-half:] = -1E30\n",
    "    offset = corrs.argmax() - len(x1)\n",
    "    return offset\n",
    "\n",
    "def make_mel(spectrogram, mel_filter, shorten_factor = 1):\n",
    "    mel_spec =np.transpose(mel_filter).dot(np.transpose(spectrogram))\n",
    "    mel_spec = scipy.ndimage.zoom(mel_spec.astype('float32'), [1, 1./shorten_factor]).astype('float16')\n",
    "    mel_spec = mel_spec[:,1:-1] # a little hacky but seemingly needed for clipping \n",
    "    return mel_spec\n",
    "\n",
    "def mel_to_spectrogram(mel_spec, mel_inversion_filter, spec_thresh, shorten_factor):\n",
    "    \"\"\"\n",
    "    takes in an mel spectrogram and returns a normal spectrogram for inversion \n",
    "    \"\"\"\n",
    "    mel_spec = (mel_spec+spec_thresh)\n",
    "    uncompressed_spec = np.transpose(np.transpose(mel_spec).dot(mel_inversion_filter))\n",
    "    uncompressed_spec = scipy.ndimage.zoom(uncompressed_spec.astype('float32'), [1,shorten_factor]).astype('float16')\n",
    "    uncompressed_spec = uncompressed_spec -4\n",
    "    return uncompressed_spec\n"
   ]
  },
  {
   "cell_type": "code",
   "execution_count": null,
   "metadata": {
    "collapsed": true
   },
   "outputs": [],
   "source": [
    "def hz2mel(hz):\n",
    "    \"\"\"Convert a value in Hertz to Mels\n",
    "    :param hz: a value in Hz. This can also be a numpy array, conversion proceeds element-wise.\n",
    "    :returns: a value in Mels. If an array was passed in, an identical sized array is returned.\n",
    "    \"\"\"\n",
    "    return 2595 * np.log10(1+hz/700.)\n",
    "    \n",
    "def mel2hz(mel):\n",
    "    \"\"\"Convert a value in Mels to Hertz\n",
    "    :param mel: a value in Mels. This can also be a numpy array, conversion proceeds element-wise.\n",
    "    :returns: a value in Hertz. If an array was passed in, an identical sized array is returned.\n",
    "    \"\"\"\n",
    "    return 700*(10**(mel/2595.0)-1)\n",
    "\n",
    "def get_filterbanks(nfilt=20,nfft=512,samplerate=16000,lowfreq=0,highfreq=None):\n",
    "    \"\"\"Compute a Mel-filterbank. The filters are stored in the rows, the columns correspond\n",
    "    to fft bins. The filters are returned as an array of size nfilt * (nfft/2 + 1)\n",
    "    :param nfilt: the number of filters in the filterbank, default 20.\n",
    "\n",
    "    :param samplerate: the samplerate of the signal we are working with. Affects mel spacing.\n",
    "    :param lowfreq: lowest band edge of mel filters, default 0 Hz\n",
    "    :param highfreq: highest band edge of mel filters, default samplerate/2\n",
    "    :returns: A numpy array of size nfilt * (nfft/2 + 1) containing filterbank. Each row holds 1 filter.\n",
    "    \"\"\"\n",
    "    highfreq= highfreq or samplerate/2\n",
    "    assert highfreq <= samplerate/2, \"highfreq is greater than samplerate/2\"\n",
    "    \n",
    "    # compute points evenly spaced in mels\n",
    "    lowmel = hz2mel(lowfreq)\n",
    "    highmel = hz2mel(highfreq)\n",
    "    melpoints = np.linspace(lowmel,highmel,nfilt+2)\n",
    "    # our points are in Hz, but we use fft bins, so we have to convert\n",
    "    #  from Hz to fft bin number\n",
    "    bin = np.floor((nfft+1)*mel2hz(melpoints)/samplerate)\n",
    "\n",
    "    fbank = np.zeros([nfilt,nfft//2])\n",
    "    for j in range(0,nfilt):\n",
    "        for i in range(int(bin[j]), int(bin[j+1])):\n",
    "            fbank[j,i] = (i - bin[j]) / (bin[j+1]-bin[j])\n",
    "        for i in range(int(bin[j+1]), int(bin[j+2])):\n",
    "            fbank[j,i] = (bin[j+2]-i) / (bin[j+2]-bin[j+1])\n",
    "    return fbank\n",
    "\n",
    "def create_mel_filter(fft_size, n_freq_components = 64, start_freq = 300, end_freq = 8000, samplerate=44100):\n",
    "    \"\"\"\n",
    "    Creates a filter to convolve with the spectrogram to get out mels\n",
    "\n",
    "    \"\"\"\n",
    "    mel_inversion_filter = get_filterbanks(nfilt=n_freq_components, \n",
    "                                           nfft=fft_size, samplerate=samplerate, \n",
    "                                           lowfreq=start_freq, highfreq=end_freq)\n",
    "    # Normalize filter\n",
    "    mel_filter = mel_inversion_filter.T / mel_inversion_filter.sum(axis=1)\n",
    "\n",
    "    return mel_filter, mel_inversion_filter"
   ]
  },
  {
   "cell_type": "code",
   "execution_count": null,
   "metadata": {
    "collapsed": true
   },
   "outputs": [],
   "source": [
    "print('Test Score: %.4f RMSE' % (testScore))"
   ]
  },
  {
   "cell_type": "code",
   "execution_count": null,
   "metadata": {
    "collapsed": true
   },
   "outputs": [],
   "source": [
    "randtomtest = ['hog','rat']"
   ]
  },
  {
   "cell_type": "code",
   "execution_count": null,
   "metadata": {
    "collapsed": true
   },
   "outputs": [],
   "source": [
    "parameter_name = 'Alpha'\n",
    "parameter_dic = {'Alpha':3, 'Beta':2, 'OnOff':1}\n",
    "print(parameter_dic[parameter_name])"
   ]
  },
  {
   "cell_type": "code",
   "execution_count": null,
   "metadata": {
    "collapsed": true
   },
   "outputs": [],
   "source": [
    "type(testPredict)"
   ]
  },
  {
   "cell_type": "code",
   "execution_count": null,
   "metadata": {
    "collapsed": true
   },
   "outputs": [],
   "source": [
    "testytest = [1,2,3,4,5,6,7]\n",
    "testyyy = [testytest[:3],testytest[2:5]]\n",
    "print(testyyy)\n",
    "print(sum(testytest[:0]))"
   ]
  },
  {
   "cell_type": "code",
   "execution_count": null,
   "metadata": {
    "collapsed": true
   },
   "outputs": [],
   "source": [
    "print(type([4]))"
   ]
  },
  {
   "cell_type": "code",
   "execution_count": null,
   "metadata": {
    "collapsed": true
   },
   "outputs": [],
   "source": []
  }
 ],
 "metadata": {
  "anaconda-cloud": {},
  "kernelspec": {
   "display_name": "Python [conda env:tf11]",
   "language": "python",
   "name": "conda-env-tf11-py"
  },
  "language_info": {
   "codemirror_mode": {
    "name": "ipython",
    "version": 3
   },
   "file_extension": ".py",
   "mimetype": "text/x-python",
   "name": "python",
   "nbconvert_exporter": "python",
   "pygments_lexer": "ipython3",
   "version": "3.6.1"
  }
 },
 "nbformat": 4,
 "nbformat_minor": 1
}
