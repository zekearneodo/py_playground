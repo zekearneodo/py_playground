{
 "cells": [
  {
   "cell_type": "code",
   "execution_count": 86,
   "metadata": {
    "collapsed": false
   },
   "outputs": [
    {
     "name": "stdout",
     "output_type": "stream",
     "text": [
      "Computer: passaro\n"
     ]
    }
   ],
   "source": [
    "import zmq\n",
    "import time\n",
    "import socket\n",
    "import os\n",
    "import sys\n",
    "\n",
    "# Check wich computer to decide where the things are mounted\n",
    "comp_name=socket.gethostname()\n",
    "print 'Computer: ' + comp_name\n",
    "\n",
    "if 'passaro' in comp_name:\n",
    "    repos_folder = os.path.abspath('/mnt/cube/earneodo/repos')\n",
    "    experiment_folder = os.path.join('/mnt/cube/earneodo/bci_zf/')\n",
    "\n",
    "sys.path.append(os.path.join(repos_folder, 'soundflow', 'sound_tools'))\n",
    "sys.path.append(os.path.join(repos_folder, 'ephysflow'))\n",
    "\n",
    "from file_tools import experiment as et\n",
    "from rig_tools import open_ephys as oe, beagle_bone as bb"
   ]
  },
  {
   "cell_type": "code",
   "execution_count": 2,
   "metadata": {
    "collapsed": false
   },
   "outputs": [
    {
     "name": "stdout",
     "output_type": "stream",
     "text": [
      "Connecting to server...\n"
     ]
    }
   ],
   "source": [
    "port = \"5558\"\n",
    "context = zmq.Context()\n",
    "print \"Connecting to server...\"\n",
    "socket = context.socket(zmq.REQ)\n",
    "socket.connect(\"tcp://127.0.0.1:%s\" % port)"
   ]
  },
  {
   "cell_type": "code",
   "execution_count": 74,
   "metadata": {
    "collapsed": false
   },
   "outputs": [],
   "source": [
    "class OpenEphysEvents():\n",
    "    def __init__(self, port='5558', ip='127.0.0.1'):\n",
    "        self.ip = ip\n",
    "        self.port = port\n",
    "        self.socket = None\n",
    "        self.context = None\n",
    "        self.timeout = 1.\n",
    "        self.last_cmd = None\n",
    "        self.last_rcv = None\n",
    "\n",
    "    \n",
    "    def connect(self):\n",
    "        url = \"tcp://%s:%d\" % (self.ip, int(self.port))\n",
    "        self.context = zmq.Context()\n",
    "        self.socket = self.context.socket(zmq.REQ)\n",
    "        self.socket.RCVTIMEO = int(self.timeout*1000)\n",
    "        self.socket.connect(url)\n",
    "\n",
    "    def start_acq(self, ):\n",
    "        if self.query_status('Acquiring'):\n",
    "            print 'Already acquiring'\n",
    "        else:\n",
    "            self.send_command('StartAcquisition')\n",
    "            if self.query_status('Acquiring'):\n",
    "                print 'Acquisition Started'\n",
    "            else:\n",
    "                print 'Something went wrong starting acquisition'\n",
    "    \n",
    "    def stop_acq(self, ):\n",
    "        if self.query_status('Recording'):\n",
    "            print 'Cant stop acquistion while recording'\n",
    "            \n",
    "        elif not self.query_status('Acquiring'):\n",
    "            print 'No acquisition running'\n",
    "        \n",
    "        else:\n",
    "            self.send_command('StopAcquisition')\n",
    "            if not self.query_status('Acquiring'):\n",
    "                print 'Acquistion stopped'\n",
    "            else:\n",
    "                print 'Something went wrong stopping acquisition'\n",
    "\n",
    "    def start_rec(self, rec_par={'CreateNewDir':'0', 'RecDir':None, 'PrependText':None, 'AppendText':None}):        \n",
    "        ok_to_start = False\n",
    "        \n",
    "        if self.query_status('Recording'):\n",
    "            print 'Already Recording'\n",
    "        \n",
    "        elif not self.query_status('Acquiring'):\n",
    "            print 'Was not Acquiring'\n",
    "            self.start_acq()\n",
    "            if self.query_status('Acquiring'):\n",
    "                ok_to_start = True\n",
    "                print 'OK to start'\n",
    "        else:\n",
    "            ok_to_start = True\n",
    "            print 'OK to start'\n",
    "        \n",
    "        if ok_to_start:\n",
    "            rec_opt = ['{0}={1}'.format(key, value) \n",
    "                       for key, value in rec_par.iteritems() \n",
    "                       if value is not None]\n",
    "            self.send_command(' '.join(['StartRecord'] + rec_opt))\n",
    "            if self.query_status('Recording'):\n",
    "                print 'Recording path: {}'.format(self.get_rec_path)\n",
    "            else:\n",
    "                print 'Something went wrong starting recording'\n",
    "        else:\n",
    "            'Did not start recording'\n",
    "                              \n",
    "    def stop_rec(self, ):\n",
    "        if self.query_status('Recording'):\n",
    "            self.send_command('StopRecord')\n",
    "            if not self.query_status('Recording'):\n",
    "                print 'Recording stopped'\n",
    "            else:\n",
    "                print 'Something went wrong stopping recording'\n",
    "        else:\n",
    "            print 'Was not recording'\n",
    "            \n",
    "    def get_rec_path(self):\n",
    "        return self.send_command('GetRecordingPath')\n",
    "    \n",
    "    def query_status(self, status_query='Recording'):\n",
    "        query_dict={'Recording': 'isRecording',\n",
    "                   'Acquiring': 'isAcquiring'}\n",
    "        \n",
    "        status_queried = self.send_command(query_dict[status_query])\n",
    "        return True if status_queried=='1' else False if status_queried=='0' else None\n",
    "    \n",
    "    def send_command(self, cmd):\n",
    "        self.socket.send(cmd)\n",
    "        self.last_cmd = cmd\n",
    "        self.last_rcv = self.socket.recv()\n",
    "        return self.last_rcv\n",
    "    \n",
    "    def close(self):\n",
    "        self.stop_rec()\n",
    "        self.stop_acq()\n",
    "        self.context.destroy()\n",
    "        "
   ]
  },
  {
   "cell_type": "code",
   "execution_count": 78,
   "metadata": {
    "collapsed": false
   },
   "outputs": [
    {
     "name": "stdout",
     "output_type": "stream",
     "text": [
      "Already acquiring\n"
     ]
    }
   ],
   "source": [
    "oe.close()\n",
    "oe = OpenEphysEvents()\n",
    "oe.connect()\n",
    "oe.start_acq()"
   ]
  },
  {
   "cell_type": "code",
   "execution_count": 81,
   "metadata": {
    "collapsed": false
   },
   "outputs": [
    {
     "name": "stdout",
     "output_type": "stream",
     "text": [
      "Was not Acquiring\n",
      "Acquisition Started\n",
      "OK to start\n",
      "Recording path: <bound method OpenEphysEvents.get_rec_path of <__main__.OpenEphysEvents instance at 0x7f312c119998>>\n"
     ]
    }
   ],
   "source": [
    "oe.start_rec({'CreateNewDir': '1', 'PrependText': 'tuvieja'})"
   ]
  },
  {
   "cell_type": "code",
   "execution_count": 83,
   "metadata": {
    "collapsed": false
   },
   "outputs": [
    {
     "name": "stdout",
     "output_type": "stream",
     "text": [
      "Recording stopped\n"
     ]
    }
   ],
   "source": [
    "oe.stop_rec()"
   ]
  },
  {
   "cell_type": "code",
   "execution_count": 104,
   "metadata": {
    "collapsed": false
   },
   "outputs": [],
   "source": [
    "import os\n",
    "sess_path = os.path.abspath('/usr/local/experiment/raw_data/testing')\n",
    "rec_par = {'CreateNewDir': '1',\n",
    "           'RecDir': None,\n",
    "           'PrependText': None, \n",
    "           'Append_text': None}\n",
    "\n",
    "txt = ['{0}={1}'.format(key, value) \n",
    "       for key, value in rec_par.iteritems() \n",
    "       if value is not None]\n",
    "\n",
    "tuvieja = ' '.join(['StartRecord'] + txt)"
   ]
  },
  {
   "cell_type": "code",
   "execution_count": 84,
   "metadata": {
    "collapsed": false
   },
   "outputs": [
    {
     "name": "stdout",
     "output_type": "stream",
     "text": [
      "StartRecord CreateNewDir=1\n"
     ]
    }
   ],
   "source": [
    "tuvieja = ' '.join(['StartRecord'] + txt)\n",
    "print tuvieja"
   ]
  },
  {
   "cell_type": "code",
   "execution_count": 85,
   "metadata": {
    "collapsed": false
   },
   "outputs": [
    {
     "data": {
      "text/plain": [
       "'StartedRecording'"
      ]
     },
     "execution_count": 85,
     "metadata": {},
     "output_type": "execute_result"
    }
   ],
   "source": [
    "oe.send_command(tuvieja)"
   ]
  },
  {
   "cell_type": "code",
   "execution_count": 9,
   "metadata": {
    "collapsed": false
   },
   "outputs": [
    {
     "ename": "ZMQError",
     "evalue": "Operation cannot be accomplished in current state",
     "output_type": "error",
     "traceback": [
      "\u001b[1;31m---------------------------------------------------------------------------\u001b[0m",
      "\u001b[1;31mZMQError\u001b[0m                                  Traceback (most recent call last)",
      "\u001b[1;32m<ipython-input-9-0f382c5a2906>\u001b[0m in \u001b[0;36m<module>\u001b[1;34m()\u001b[0m\n\u001b[1;32m----> 1\u001b[1;33m \u001b[0moe\u001b[0m\u001b[1;33m.\u001b[0m\u001b[0msend_command\u001b[0m\u001b[1;33m(\u001b[0m\u001b[1;34m'StopRecord'\u001b[0m\u001b[1;33m)\u001b[0m\u001b[1;33m\u001b[0m\u001b[0m\n\u001b[0m",
      "\u001b[1;32m<ipython-input-7-5e26cfb06daf>\u001b[0m in \u001b[0;36msend_command\u001b[1;34m(self, cmd)\u001b[0m\n\u001b[0;32m     65\u001b[0m \u001b[1;33m\u001b[0m\u001b[0m\n\u001b[0;32m     66\u001b[0m     \u001b[1;32mdef\u001b[0m \u001b[0msend_command\u001b[0m\u001b[1;33m(\u001b[0m\u001b[0mself\u001b[0m\u001b[1;33m,\u001b[0m \u001b[0mcmd\u001b[0m\u001b[1;33m)\u001b[0m\u001b[1;33m:\u001b[0m\u001b[1;33m\u001b[0m\u001b[0m\n\u001b[1;32m---> 67\u001b[1;33m         \u001b[0mself\u001b[0m\u001b[1;33m.\u001b[0m\u001b[0msocket\u001b[0m\u001b[1;33m.\u001b[0m\u001b[0msend\u001b[0m\u001b[1;33m(\u001b[0m\u001b[0mcmd\u001b[0m\u001b[1;33m)\u001b[0m\u001b[1;33m\u001b[0m\u001b[0m\n\u001b[0m\u001b[0;32m     68\u001b[0m         \u001b[0mself\u001b[0m\u001b[1;33m.\u001b[0m\u001b[0mlast_cmd\u001b[0m \u001b[1;33m=\u001b[0m \u001b[0mcmd\u001b[0m\u001b[1;33m\u001b[0m\u001b[0m\n\u001b[0;32m     69\u001b[0m         \u001b[0mself\u001b[0m\u001b[1;33m.\u001b[0m\u001b[0mlast_rcv\u001b[0m \u001b[1;33m=\u001b[0m \u001b[0mself\u001b[0m\u001b[1;33m.\u001b[0m\u001b[0msocket\u001b[0m\u001b[1;33m.\u001b[0m\u001b[0mrecv\u001b[0m\u001b[1;33m(\u001b[0m\u001b[1;33m)\u001b[0m\u001b[1;33m\u001b[0m\u001b[0m\n",
      "\u001b[1;32mzmq/backend/cython/socket.pyx\u001b[0m in \u001b[0;36mzmq.backend.cython.socket.Socket.send (zmq/backend/cython/socket.c:6625)\u001b[1;34m()\u001b[0m\n",
      "\u001b[1;32mzmq/backend/cython/socket.pyx\u001b[0m in \u001b[0;36mzmq.backend.cython.socket.Socket.send (zmq/backend/cython/socket.c:6363)\u001b[1;34m()\u001b[0m\n",
      "\u001b[1;32mzmq/backend/cython/socket.pyx\u001b[0m in \u001b[0;36mzmq.backend.cython.socket._send_copy (zmq/backend/cython/socket.c:2492)\u001b[1;34m()\u001b[0m\n",
      "\u001b[1;32m/usr/local/anaconda/lib/python2.7/site-packages/zmq/backend/cython/checkrc.pxd\u001b[0m in \u001b[0;36mzmq.backend.cython.checkrc._check_rc (zmq/backend/cython/socket.c:7535)\u001b[1;34m()\u001b[0m\n\u001b[0;32m     23\u001b[0m         \u001b[1;32melse\u001b[0m\u001b[1;33m:\u001b[0m\u001b[1;33m\u001b[0m\u001b[0m\n\u001b[0;32m     24\u001b[0m             \u001b[1;32mfrom\u001b[0m \u001b[0mzmq\u001b[0m\u001b[1;33m.\u001b[0m\u001b[0merror\u001b[0m \u001b[1;32mimport\u001b[0m \u001b[0mZMQError\u001b[0m\u001b[1;33m\u001b[0m\u001b[0m\n\u001b[1;32m---> 25\u001b[1;33m             \u001b[1;32mraise\u001b[0m \u001b[0mZMQError\u001b[0m\u001b[1;33m(\u001b[0m\u001b[0merrno\u001b[0m\u001b[1;33m)\u001b[0m\u001b[1;33m\u001b[0m\u001b[0m\n\u001b[0m\u001b[0;32m     26\u001b[0m     \u001b[1;32mreturn\u001b[0m \u001b[1;36m0\u001b[0m\u001b[1;33m\u001b[0m\u001b[0m\n",
      "\u001b[1;31mZMQError\u001b[0m: Operation cannot be accomplished in current state"
     ]
    }
   ],
   "source": [
    "oe.send_command('StopRecord')"
   ]
  },
  {
   "cell_type": "code",
   "execution_count": null,
   "metadata": {
    "collapsed": true
   },
   "outputs": [],
   "source": []
  }
 ],
 "metadata": {
  "kernelspec": {
   "display_name": "Python 2",
   "language": "python",
   "name": "python2"
  },
  "language_info": {
   "codemirror_mode": {
    "name": "ipython",
    "version": 2
   },
   "file_extension": ".py",
   "mimetype": "text/x-python",
   "name": "python",
   "nbconvert_exporter": "python",
   "pygments_lexer": "ipython2",
   "version": "2.7.11"
  }
 },
 "nbformat": 4,
 "nbformat_minor": 0
}
